{
 "cells": [
  {
   "cell_type": "code",
   "execution_count": 289,
   "metadata": {},
   "outputs": [],
   "source": [
    "import pandas as pd\n",
    "import numpy as np"
   ]
  },
  {
   "cell_type": "code",
   "execution_count": 290,
   "metadata": {},
   "outputs": [],
   "source": [
    "import seaborn as sns\n",
    "sns.set_palette('Set2')\n",
    "import matplotlib.pyplot as plt\n",
    "%matplotlib inline"
   ]
  },
  {
   "cell_type": "markdown",
   "metadata": {},
   "source": [
    "###  Efficiently split Pandas Dataframe cells containing lists into multiple rows, duplicating the other column's values."
   ]
  },
  {
   "cell_type": "markdown",
   "metadata": {},
   "source": [
    "#### Raw data"
   ]
  },
  {
   "cell_type": "code",
   "execution_count": 291,
   "metadata": {},
   "outputs": [
    {
     "data": {
      "text/html": [
       "<div>\n",
       "<style scoped>\n",
       "    .dataframe tbody tr th:only-of-type {\n",
       "        vertical-align: middle;\n",
       "    }\n",
       "\n",
       "    .dataframe tbody tr th {\n",
       "        vertical-align: top;\n",
       "    }\n",
       "\n",
       "    .dataframe thead th {\n",
       "        text-align: right;\n",
       "    }\n",
       "</style>\n",
       "<table border=\"1\" class=\"dataframe\">\n",
       "  <thead>\n",
       "    <tr style=\"text-align: right;\">\n",
       "      <th></th>\n",
       "      <th>Unnamed: 0</th>\n",
       "      <th>ReferenceNumber</th>\n",
       "      <th>በሽያጭ_ሂደቱ_ያጋጠሙ_ችግሮች</th>\n",
       "    </tr>\n",
       "  </thead>\n",
       "  <tbody>\n",
       "    <tr>\n",
       "      <th>0</th>\n",
       "      <td>0</td>\n",
       "      <td>1</td>\n",
       "      <td>7% ማስታወቂያ ውል ይፈረማል ብሎ ማሰቡ</td>\n",
       "    </tr>\n",
       "    <tr>\n",
       "      <th>1</th>\n",
       "      <td>1</td>\n",
       "      <td>2</td>\n",
       "      <td>ቅድመ ክፍያውን  በአንድ ጊዜ መክፈል  አለመቻል</td>\n",
       "    </tr>\n",
       "    <tr>\n",
       "      <th>2</th>\n",
       "      <td>2</td>\n",
       "      <td>2</td>\n",
       "      <td>ለመወሰን ረጅም ጊዜ መውሰድ</td>\n",
       "    </tr>\n",
       "  </tbody>\n",
       "</table>\n",
       "</div>"
      ],
      "text/plain": [
       "   Unnamed: 0  ReferenceNumber              በሽያጭ_ሂደቱ_ያጋጠሙ_ችግሮች\n",
       "0           0                1       7% ማስታወቂያ ውል ይፈረማል ብሎ ማሰቡ\n",
       "1           1                2  ቅድመ ክፍያውን  በአንድ ጊዜ መክፈል  አለመቻል\n",
       "2           2                2               ለመወሰን ረጅም ጊዜ መውሰድ"
      ]
     },
     "execution_count": 291,
     "metadata": {},
     "output_type": "execute_result"
    }
   ],
   "source": [
    "rawdata = pd.read_csv(\"MeasureTakentoSolveProblems.csv\", encoding='utf-8')\n",
    "rawdata.head(3)"
   ]
  },
  {
   "cell_type": "code",
   "execution_count": 292,
   "metadata": {},
   "outputs": [
    {
     "data": {
      "text/plain": [
       "(1657, 3)"
      ]
     },
     "execution_count": 292,
     "metadata": {},
     "output_type": "execute_result"
    }
   ],
   "source": [
    "rawdata.shape"
   ]
  },
  {
   "cell_type": "code",
   "execution_count": 293,
   "metadata": {},
   "outputs": [
    {
     "data": {
      "text/plain": [
       "Index(['Unnamed: 0', 'ReferenceNumber', 'በሽያጭ_ሂደቱ_ያጋጠሙ_ችግሮች'], dtype='object')"
      ]
     },
     "execution_count": 293,
     "metadata": {},
     "output_type": "execute_result"
    }
   ],
   "source": [
    "rawdata.columns"
   ]
  },
  {
   "cell_type": "markdown",
   "metadata": {},
   "source": [
    "#### በሽያጭ_ሂደቱ_ያጋጠሙ_ችግሮች"
   ]
  },
  {
   "cell_type": "code",
   "execution_count": 294,
   "metadata": {},
   "outputs": [
    {
     "data": {
      "text/plain": [
       "{'የግንባታ መዘግየት  እና መጓተት / በጊዜው አይደርስም ብለው ማሰባቸው': 'Delivery concern ',\n",
       " 'በ Dollar ክፍያው መሆኑ': 'Payment problem / Dollar payment concern',\n",
       " 'የግንባታ ጥራት  ችግር (ከዚህ በፊት አያት የ ሰራቸው ቤቶች ላይ  )': 'Quality  concern ',\n",
       " 'view  ማግኘት  አለመቻሉ': 'Setup / design concern ',\n",
       " 'ደንበኛው የሚፍልገው  Size  ፣ Floor ': 'Setup / design concern ',\n",
       " 'sample ቤት  አለመኖሩ': 'Unavaliblity of sample house',\n",
       " 'የዋጋ መቀያየር': 'Prce changes , increase ',\n",
       " 'የመረከቢያ ጊዜ መርዘሙ / ቶሎ መግባት መፈለጋቸው': 'Delivery concern ',\n",
       " 'ሌሎች ገዝተው  ሳይረከቡ ስለዘገየ': 'Delivery concern ',\n",
       " 'የለም': 'None',\n",
       " 'ዋጋው ተወዷል': 'Prce changes , increase ',\n",
       " 'Stock መረጃ የማግኘት ችግር / የያዙት ቤት ለሌላ መሸጥ': 'Misinformation / miscommunication within the offices / information gap',\n",
       " 'ለመወሰን ረጅም ጊዜ መውሰድ': 'Other reasons ',\n",
       " 'የህንጻው ከፈታ  እና በአንድ Floor ላይ በርካታ ሰው መኖሩ': 'Setup / design concern ',\n",
       " 'Higher second payment ': 'High second payment ',\n",
       " 'በርካታ ብሎክ ስላለ ግርግር ይኖራል ብለው  ማሰባቸው': 'Setup / design concern ',\n",
       " 'የክፍያ  ሂደቱ  አሰልቺነት ( ደረሰኝ ለማስቆረጥ ያለው እንግልት )': 'Payment problem / Dollar payment concern',\n",
       " 'የ Discount አስራር  ግልጽ አለመሆን': 'Payment problem / Dollar payment concern',\n",
       " 'የደንብኛ አያያዝ እና ተጓዳኝ  ተግዳሮቶች': 'Customer service problem ',\n",
       " 'የስልክ ችግር ገዢው ውጪ ስለሆነ': \"Reachablity / Customers' time shortage\",\n",
       " ' አማራጭ ሳይት አለመኖር ': 'Unavailability of alternative sites ',\n",
       " 'የድርጅቱ ኃላ ቀር አሰራር': 'The real estates backward system ',\n",
       " 'Blank / የለም': 'None',\n",
       " 'ቅድመ ክፍያውን  በአንድ ጊዜ መክፈል  አለመቻል': 'Payment problem / Dollar payment concern',\n",
       " nan: 'None',\n",
       " 'ደንበኛው በቀጠሮ አለመገኘት': 'Missing Appointments / Not answering phone',\n",
       " 'ሁለተኛ ክፍያ መክበድ ': 'High second payment ',\n",
       " 'በየጊዜው  ዋጋ መቀነሳችን /  አሁንም ይቀንሳል ብለው ማስባቸው': 'Other reasons ',\n",
       " 'ሁለተኛ ክፍያ ከፍተኛ መሆኑ': 'High second payment ',\n",
       " '7% ማስታወቂያ ውል ይፈረማል ብሎ ማሰቡ': 'Misinformation / miscommunication within the offices / information gap',\n",
       " 'ሁለተኛ ክፍያ መደራረብ ': 'High second payment ',\n",
       " 'ሁለተኛ ክፍያ ከፍተኛ መሆኑ ': 'High second payment ',\n",
       " 'ስልክ አለማንሳት': 'Missing Appointments / Not answering phone',\n",
       " 'ሁለተኛ ክፈያ መብዛት ': 'High second payment ',\n",
       " ' የሁለተኛ ክፍያ መክበድ ': 'High second payment ',\n",
       " 'የ አቅም ማነስ ': 'Financial handicap / unavailablity of money on hand ',\n",
       " 'ሳይት ለማሳየት የትራንስፖርት ችግር': 'Site car unavailability / Not being able see the site ',\n",
       " 'not coming in the appointment day': 'Missing Appointments / Not answering phone',\n",
       " ' ቶሎ መረጃ ያለመውሰድ እና ወደ ቢሮ ያለመምጣት ': \"Reachablity / Customers' time shortage\",\n",
       " ' ዋጋ ሲጨምር እኛ ላይ ይጨምራል የሚል ስጋት': 'Misinformation / miscommunication within the offices / information gap',\n",
       " ' ከተማ ዉስት ሰል አያት ያሉት አሉባልታዎች ': 'Trust concern ',\n",
       " 'ታማኝነቱ ምን ያህል ነው የሚል': 'Trust concern ',\n",
       " ' መረጃ ከሌላ 3ተኛ ወገን ድርጅቱን የማይወክል መረጃ ይደርሳት ነበር ዉሉ እንዲፈረም ወደ ዉጭ ሀገር መላኩ በትክክለኛው ሰዓት እንዳይደርሥ አደርጉአል ': 'Misinformation / miscommunication within the offices / information gap',\n",
       " 'የትራንስፖርት መቸገር': 'Transportation concern / site location',\n",
       " 'የቤቱ ዋጋ ይጨምርብኛል የሚል ስጋት': 'Prce changes , increase ',\n",
       " '7% ቅድመ ክፍያ መመዝገቢያ ማስታወቂያ ላይ እንደጠበቁት አለመሆን': 'Misinformation / miscommunication within the offices / information gap',\n",
       " ' የዋጋ መጨመር': 'Prce changes , increase ',\n",
       " 'የሁለተኛ ክፍያ መክበድ': 'High second payment ',\n",
       " ' የቤቶቹ ወለል ማጠር': 'Setup / design concern ',\n",
       " 'የቀድሞ አያት ላይ የነበረ መጥፎ አመለካከት ': 'Trust concern ',\n",
       " 'ሁለተኛ ክፍያ መደራረብ': 'High second payment ',\n",
       " 'ከ 60/40 የዱቤ አገልግሎት ውጪ ለምን ሌላ የብድር አማራጭ አይመቻቸም ': 'Bank system problem / Unavaliblity of working with Bank ',\n",
       " ' ከባንክ ጋር የተያያዘ ብድር አለመኖሩ ': 'Bank system problem / Unavaliblity of working with Bank ',\n",
       " 'ያላለቁ ቤቶች መሆናቸው': 'Because they want a finished one ',\n",
       " ' ሁለተኛ ዙር 25% ስታስከፋሉ ከደምበኛ አቅም በላይ ነው': 'High second payment ',\n",
       " ' የነበረው የሀገሩ ወቅታዊ ሁኔታ': 'Current situation of the country ',\n",
       " 'Higher second payment amount(25%)': 'High second payment ',\n",
       " ' ስልክ አለማንሳት ': 'Missing Appointments / Not answering phone',\n",
       " 'Higher payment of 1st and 2nd payment ': 'High second payment ',\n",
       " 'ብር ቶሎ ከውጪ አለመላክ ': 'Financial handicap / unavailablity of money on hand ',\n",
       " ' የድርጅቱ ሁላ ቀር አሰራር': 'The real estates backward system ',\n",
       " 'ክፍያው በ 3 ዓመት ማለቁ ': 'Payment problem / Dollar payment concern',\n",
       " ' ሳይት ለማሳየት የትራንስፖርት ችግር': 'Site car unavailability / Not being able see the site ',\n",
       " ' ዛሬ ጨርሳለው ነገ ጨርሳለው እያለ ከ 3ዓመት በላይ ባደረኩት ክትትል ሽያጩ ተከናዉኗል ': 'Other reasons ',\n",
       " 'የመንገድ መጭናነቅ': 'Misinformation / miscommunication within the offices / information gap',\n",
       " 'የቀደመ አያት ላይ የነበረ መጥፎ አመለካከት': 'Trust concern ',\n",
       " ' የጥሬ ዕቃ ጥራት ': 'Quality  concern ',\n",
       " ' የመረጃ ግልጽነት ': 'Misinformation / miscommunication within the offices / information gap',\n",
       " 'ከዉጭ የሚላኩ ገንዘቦች በአንዴ ተጠቃሎ መላክ አለመቻል': 'Financial handicap / unavailablity of money on hand ',\n",
       " 'ተቀጣሪ እንደመሆናቸው መጠን የገቢ ምንጫቸው ዝቅተኛ ነበር': 'Financial handicap / unavailablity of money on hand ',\n",
       " 'ዉል የሚዘጋጅበት ጊዜ መርዘሙ ': 'Agreement form issues  ',\n",
       " ' የነበረው የሃገሪቱ ወቅታዊ ሁኔታ': 'Current situation of the country ',\n",
       " ' ከባንክ ጋር የሚያያዝ የብድር አገልገሎት ': 'Bank system problem / Unavaliblity of working with Bank ',\n",
       " 'ለ ሳይት መኪና አልመኖረ ': 'Site car unavailability / Not being able see the site ',\n",
       " 'ሁለተኛ ክፍያው መብዛቱ': 'High second payment ',\n",
       " ' መንገድ ሊዘጋጋ ይቸላል ብሎ ማሰብ ': 'Transportation concern / site location',\n",
       " 'በተደጋጋሚ ጊዜ cpo ይዞ መጥቶ ተመላልሰዋል ': 'Customer service problem ',\n",
       " 'ዱፕሌክሶቹ  ዲዛይን ': 'Setup / design concern ',\n",
       " 'ደንበኛው ከነበራቸው የሥራ ሁኔታ መገናኘት ከብዶን ነበር': \"Reachablity / Customers' time shortage\",\n",
       " 'የ ኢንሹራንስ ቦንድ  ይሰጠን ብለው ጠይቀዋል': 'Other reasons ',\n",
       " 'ሁለተኛ ክፍያ ብዙ መሆኑ': 'High second payment ',\n",
       " ' በከፊል ግንባታ የዱቤ አገልግሎት አለመኖር ': 'Unavaliblity of loan provision for the sf',\n",
       " 'ያላቸው የገቢ መጠን': 'Financial handicap / unavailablity of money on hand ',\n",
       " 'Client Motivation ': 'Other reasons ',\n",
       " ' ከባንክ ጋር የሚያያዝ ብድር  አለመኖሩ ': 'Bank system problem / Unavaliblity of working with Bank ',\n",
       " ' የሁለተኛ ክፍያ 25% መሆኑ ': 'High second payment ',\n",
       " 'Phone not answering continously': 'Missing Appointments / Not answering phone',\n",
       " 'ከ ዉቺ ብር አስኪላክ መዘግየት': 'Financial handicap / unavailablity of money on hand ',\n",
       " 'ኮሙናል ቦታ የለውpም ': 'Infrastructure concern  ',\n",
       " ' የባንክ ደረሰኝ ሪፖርት debit balance መሆን የነበረበት credit balance ነበር በዚ ምክንያት ዉሉ ሊዘገይ ችሏል  ክፍያው ሲፈፀም የፐርሰንት ችግር ነበር ሂሳብ ሲሰራ ስህተት ነበር': 'Bank system problem / Unavaliblity of working with Bank ',\n",
       " '60/40 ለ sf ባለመኖሩ ': 'Unavaliblity of loan provision for the sf',\n",
       " ' ቦሌ ራቅ ብሏቸው ወደ ራስ ሆቴል ያለው ቢሮ በመሄድ የቢሮ ጉብኝት አድረግዋል ሳይት ስናስጎበኝ ባጋጠመን የትራንስፖርት ችግር እነሱ ቀድመውን መምጣታቸው ': 'Site car unavailability / Not being able see the site ',\n",
       " 'የፍኒሺንግ እቃዎች ጥራት ጉድለት ሊኖራቸው ይቸላል የሚል ፍርሀት ': 'Quality  concern ',\n",
       " 'Content of the agreement is baised to the real estate side ': 'Agreement form issues  ',\n",
       " 'His need was to buy shop': 'Other reasons ',\n",
       " 'ወሉን ለማስፈረም በሚክበት ጊዜ የመላኪያ ወይም (DHL) ድርጅቱ መሸፈን እንዳለበት ተጠይቆል ': 'Agreement form issues  ',\n",
       " 'Bank loan less than 60/40': 'Bank system problem / Unavaliblity of working with Bank ',\n",
       " ' ባንክ ላይ tranfer የማረግ ችግር': 'Bank system problem / Unavaliblity of working with Bank ',\n",
       " 'parking ': 'Infrastructure concern  ',\n",
       " 'የ ደንበኛ ቅሬታ መኖሩ ': 'Customer service problem ',\n",
       " 'አዲስ ብሎክ በ 10%  ክፍያ አይቻልም መባሉ': 'Payment problem / Dollar payment concern',\n",
       " 'የወለሎቹ ማጠር': 'Setup / design concern ',\n",
       " 'በ ቢሮ ባለመናበርብ ችግር ': 'Customer service problem ',\n",
       " 'Aggrement ': 'Agreement form issues  ',\n",
       " 'ሁለትኛ ክፈያ መክበድ ': 'High second payment ',\n",
       " 'Location and Higher amount of second payment ': 'High second payment ',\n",
       " ' ያላለቀ ቤት መሆኑ ': 'Because they want a finished one ',\n",
       " 'የ ሳይት ፕላን ሰተት ': 'Quality  concern ',\n",
       " 'ሁለተኛዉ ክፋያ ዉድ መሆኑ': 'High second payment ',\n",
       " 'ሰለ አያት ያሉ የሚወሩ መትፎ ነገሮች ': 'Trust concern ',\n",
       " 'ሽያጭ ላይ ፍሎሩ ከፍ ማለቱ ': 'Setup / design concern ',\n",
       " ' ማንገራገር': 'Other reasons ',\n",
       " 'ሳይት ደንበኞች በምቀጥሩኝ ሰዓት የትራንስፖርት ችግር ': 'Site car unavailability / Not being able see the site ',\n",
       " 'Want credit on sf': 'Unavaliblity of loan provision for the sf',\n",
       " '2ተኛ ክፈያ መብዛት ': 'High second payment ',\n",
       " ' በመጣበት ሰዓት በቂ ገንዘብ እጁ ላይ አለመኖር ': 'Financial handicap / unavailablity of money on hand ',\n",
       " 'ዉሃ መብራት የለውም ': 'Infrastructure concern  ',\n",
       " 'የመብራት እና የውሀ ችግር መኖሩ': 'Infrastructure concern  ',\n",
       " ' ስራ ስለሚበዛባቸው በቀጠሮ ቀን መገኘት አለመቻላቸው': \"Reachablity / Customers' time shortage\",\n",
       " ' የ ዉሃ ችግር ይኖራል ብሎ መተርተር': 'Infrastructure concern  ',\n",
       " 'ሁለተኛው ክፍያ ወድ መሆን ': 'High second payment ',\n",
       " '60/40 package ካለ ፍንሺንግ ቢኖር ': 'Unavaliblity of loan provision for the sf',\n",
       " 'Higher amount of second payment  ': 'High second payment ',\n",
       " 'Longer agrement delivery time ': 'Agreement form issues  ',\n",
       " 'ሁለተኛው ክፋያ 25% መሆኑ': 'High second payment ',\n",
       " ' በድርጅቱ ላይ ያለው እምነት': 'Trust concern ',\n",
       " 'ከዚህ በፊት የነበረው የአያት ስም (ቶሎ አያስረክብም የሚል)': 'Trust concern ',\n",
       " 'ገንዘብ ትራንስፈር ለማረግ ባንኮች ጋር ያለ ችግር': 'Bank system problem / Unavaliblity of working with Bank ',\n",
       " 'ስልክ ስደውል ቀጠሮ የምስራዘም ችግር': 'Missing Appointments / Not answering phone',\n",
       " ' ዉሃ መብራት አለመኖር ': 'Infrastructure concern  ',\n",
       " 'ዋጋ መጨመር': 'Prce changes , increase ',\n",
       " 'ኮንትራት ላይ ባሉት ነገሮች ትነሽ ችግር ነበር ': 'Agreement form issues  ',\n",
       " 'በመጀመሪያ የከፈልነው የምንዛሬ ዋጋ በየወቅቱ ከምንከፍለው የአከፋፈል ዋጋ ጋር ይጣረሳል': 'Payment problem / Dollar payment concern',\n",
       " 'ዉሉን ቶሎ አለመወሰድ ': 'Missing Appointments / Not answering phone',\n",
       " ' not answer phone calls ': 'Missing Appointments / Not answering phone',\n",
       " 'ቢሮ አለመምጣት አና የ ጊዜ ማነስ ': \"Reachablity / Customers' time shortage\",\n",
       " 'Higher Second Payment ': 'High second payment ',\n",
       " 'ሁለተኛ ጥያቄ': 'High second payment ',\n",
       " 'Survey በምሰራበት ጊዜ ፓርኪንጎችግ አትሰራም የፍቃድ ደብዳቤ ካላመጣህ ማለታቸው': 'Other reasons ',\n",
       " 'ከሥራው አንጻር በተባhው ቀን መምታተ አለመቻል አና': \"Reachablity / Customers' time shortage\",\n",
       " 'ፍሎሩ ከፍ ባለ ቁጥር የውሀ ችግር ሊኖር ይችላል': 'Infrastructure concern  ',\n",
       " 'በተደጋጋሚ ስልክ ዝግ መሆኑ': 'Missing Appointments / Not answering phone',\n",
       " 'ሁለተኛ ዙር ክፍያ ከፍተኛ በመሆኑ ': 'High second payment ',\n",
       " 'Exchange rate በተመለከተ': 'Payment problem / Dollar payment concern',\n",
       " 'ያላለቀ ቤት መሆን ': 'Because they want a finished one ',\n",
       " 'ደንበኛዬ የዳሽን ባንክ አካውንት ስሌለው ወደ ሌላ ባንክ ለማስተላልፍ ተቸግሮ ነበር ከዚህ በፊት ከአያት ቤት የገዙ ሰዎች ስለ አያት negative የሆነ ነገር ነግረዋቸው ስለነበር ': 'Bank system problem / Unavaliblity of working with Bank ',\n",
       " ' የትራንስፖርት ችግር ሳይት ለማሳየት ': 'Site car unavailability / Not being able see the site ',\n",
       " ' መንገድ ይዘጋል ': 'Transportation concern / site location',\n",
       " 'Poor construction Qualitity of Priviousely handed over site ': 'Trust concern ',\n",
       " 'ፍሎር ከፍ ባለ ቁጥር የዉሃ ችግር ይኖራል': 'Infrastructure concern  ',\n",
       " 'በተደጋጋሚ ማስደወላቸው ': 'Missing Appointments / Not answering phone',\n",
       " 'መወላወል': 'Other reasons ',\n",
       " 'ምን ያህል ታማኝ ነው ቤቱ ቢዘገይ ምን ዋስትና አለው?': 'Trust concern ',\n",
       " 'የመጀመሪያ ክፍያ አልሞላለት በማለቱ ሃሳብ ይቀይራል የሚል ': 'Financial handicap / unavailablity of money on hand ',\n",
       " 'Her first need was to buy a shop ': 'Other reasons ',\n",
       " ' ብዙ አማራጮችን ማየት እና ከ አያት ጋር ማወዳደር ': 'Comparison with other real estates ',\n",
       " 'የሻወር ቤት አቃዎቹ ላይ ገንዳ ቢቀር የሚል አስተያየት ነበራቸው ': 'Setup / design concern ',\n",
       " 'ደንበኛው ገንዘብ ተይዞበት ኮይቶብን ነበር ': 'Payment problem / Dollar payment concern',\n",
       " 'መሰኮቶቹ ወደ ወደ collidor ሰለሆኑ አልወደ ዳ ቸ ው ም ': 'Setup / design concern ',\n",
       " 'በሳይት ጉብኚት ወቅት ግንባታው ላይ የታየ ክፍተት colun ላይ የመፍረስ እና በጥራት ያለመገንባት ችግር መኖሩን ተመልክተው ቅሬታ አቅረበዋል': 'Quality  concern ',\n",
       " 'Quality ': 'Quality  concern ',\n",
       " 'የቦታው ምቹ መሆን ': 'Transportation concern / site location',\n",
       " '2 ተኛ ክፈያ መብዛት ': 'High second payment ',\n",
       " ' የመንገዱ አስቸጋሪነት ': 'Transportation concern / site location',\n",
       " 'ወንድሙ ከዚህ በፊት ስለገዛ የሱን ጥሩ ነገር ስላየ ችግር አልነበረም ': 'None',\n",
       " 'ሌላ አማራጭ ማየት': 'Other reasons ',\n",
       " 'ሱቅ በፊት ገዝቶ መዘግየት ': 'Trust concern ',\n",
       " 'ደንበኛዋ ሀገር ወስጥ የራሷ ሕጋዊ ተወካይ ስላልነበራት': \"Reachablity / Customers' time shortage\",\n",
       " 'የ ደንበኛ ጊዜ ማታተ ': \"Reachablity / Customers' time shortage\",\n",
       " 'ቅናሹ ለ አጭር ጊዜ መሆኑ ': 'Short discount time ',\n",
       " 'የገንዘብ አስተላላፊ ድርጅቶች ወዲያዊ ገንዘብ አለመልቀቅ 60% መክፈልና የቅናሽ ተጠቃሚ መሆን ቢፈልጉም ይህን ክፋያ በአንዴ መክፈል አለመቻል (የወር ጊዜ እንዲሰጣቸው ጠይቀው ነበር)': 'Bank system problem / Unavaliblity of working with Bank ',\n",
       " ' የ ዉሃ አና የመብራት ችግር ': 'Infrastructure concern  ',\n",
       " 'ያለመታመን ስጋት': 'Trust concern ',\n",
       " 'ከ ከከተማ አሩቅ ነው ቦታው': 'Transportation concern / site location',\n",
       " 'ሁለተኛው ክፍያ ': 'High second payment ',\n",
       " 'Higher price of second payment': 'High second payment ',\n",
       " ' አድራሻ ከ ፖስት ቤት ይለቅ በ email ቢሆነ ': 'Other reasons ',\n",
       " ' የፍንሺንግ ዕቃ የጥራት ጉድለት': 'Quality  concern ',\n",
       " 'Not answering phone ': 'Missing Appointments / Not answering phone',\n",
       " ' መጭበርበር እንዳይደርስባቸው ስጋት ነበራቸው': 'Trust concern ',\n",
       " 'Unable to pay 15% down payment ': 'Financial handicap / unavailablity of money on hand ',\n",
       " 'not answer phone calls ': 'Missing Appointments / Not answering phone',\n",
       " 'ሳይቱን ከዚህ በፊት የሚያዉቀው ሰው አብሮት መሆኑ ሳይቱ ይዘገያል ብሎ ማሰቡ': 'Delivery concern ',\n",
       " 'ወደ ፊት ዋጋ ይቸምራል ብሎ ማሰብ ': 'Prce changes , increase ',\n",
       " 'the previous home Quality': 'Quality  concern ',\n",
       " ' የቦታው እሩቅ ነው ብሎ ማሰብ ': 'Transportation concern / site location',\n",
       " 'Slower progress of the site and Unavailability of site car ': 'Delivery concern ',\n",
       " 'የ አቀም ቺገር ': 'Financial handicap / unavailablity of money on hand ',\n",
       " 'ገንዘብ ለማስተላለፍ መቸገር': 'Payment problem / Dollar payment concern',\n",
       " ' ድርጅቱ ላይ ያላቸው እምነት': 'Trust concern',\n",
       " 'Slower progress of the site and unavailability of site car ': 'Delivery concern ',\n",
       " ' ከሌሎች ድርጅቶች ጋር ማወዳደር ': 'Comparison with other real estates ',\n",
       " 'ሌሎች የክፋያ አማራጮች አለመኖሩ': 'Bank system problem / Unavaliblity of working with Bank ',\n",
       " 'Site car unavailability ': 'Site car unavailability / Not being able see the site ',\n",
       " 'ደንበኛው ስልክ እና መልክት የመመለስ ችግር': 'Missing Appointments / Not answering phone',\n",
       " 'የገዥዉ በቅርበት አለመኖር በዉክልና መሆኑ': \"Reachablity / Customers' time shortage\",\n",
       " 'ዉሉ ላይ በዶላር ስለሆነ አልፈርምም ብለው እስካሁን ዉል አልወሰዱም': 'Agreement form issues  ',\n",
       " 'የሁለተኛ ክፍያ ዋጋ መብዛት እና ቶሎ መጠየቅ': 'High second payment ',\n",
       " 'ደንበኛዬ ክፍለሀገር በመሆናቸው በአካል መገኘት ባለመቻላቸው': \"Reachablity / Customers' time shortage\",\n",
       " 'There is complain but we solve the problem by discussion': 'None',\n",
       " 'Client finance inadquacey for second payment ': 'Financial handicap / unavailablity of money on hand',\n",
       " 'የደንበኛ አቀም ማነስ ': 'Financial handicap / unavailablity of money on hand ',\n",
       " 'የውል ችግር ': 'Agreement form issues  ',\n",
       " ' እምነት ማጣት': 'Trust concern',\n",
       " 'ካርታ በጊዜ አትሰጡም': 'Trust concern',\n",
       " ' ውል ለመፈረም ጊዜ መውሰድ ': 'Agreement form issues  ',\n",
       " ' ዉል በሰዓቱ አለመድረስ': 'Agreement form issues  ',\n",
       " ' በቀኑ ምንዛሬ መሆኑ': 'Payment problem / Dollar payment concern',\n",
       " ' የዋጋ ጭማሪ': 'Prce changes , increase ',\n",
       " 'ግንባታው ያለበት ደረጃ ': 'Delivery concern ',\n",
       " 'Higher second and Third payment  ': 'High second payment ',\n",
       " 'quality of the previous construction': 'Trust concern',\n",
       " 'ኢትዮጵያዊ ዜግነት አለመኖር': 'Other reasons ',\n",
       " ' ሁለተኛው ክፍያው መብዛቱ ': 'High second payment ',\n",
       " 'ሁለተኛ ከፈያው ቶሎ አተየካለው ብሎ መፍራት ': 'High second payment ',\n",
       " 'ከዛሬ 4ወይም 2 ዓመት በፊት የሚያወቁት ሰው አስካሁን አልተረከበም እሱ ቅሬታ አድሮባቸዋል ': 'Delivery concern ',\n",
       " 'የ ደንበኛ አቅም ማታት ': 'Financial handicap / unavailablity of money on hand ',\n",
       " 'ዘመኑን የዋጀ ዲዛይን ይዘት': 'Setup / design concern ',\n",
       " 'Second payment 25%': 'High second payment ',\n",
       " ' ሳይቱን ቶሎ አለማየት ': 'Site car unavailability / Not being able see the site ',\n",
       " 'Unavailability of site car and higher amount of second payment ': 'Site car unavailability / Not being able see the site ',\n",
       " '25% ክፈያው አና ማስታወቂያ ላይ ያለው አከፋፈል አና በ አካል ሲመጡ ያለው ልዩነት ': 'High second payment ',\n",
       " 'ከተለያዩ የሽያጭ ሰራተኞቻችን እየተነገራቸው የነበረ የተሳሳተ መረጃ እንዲሁም ሳይት ላይ ያለውን ፕሮጀክት በአግባቡ ሳያወቁ መረጃ ሰተዋቸው': 'Customer service problem ',\n",
       " 'Higher second price and Unavailabilty of site car': 'High second payment ',\n",
       " ' ከ1 ዓመት በፊት መተው የሄዱ እንደመሆናቸው ጥያቄ ማብዛት የሚወዱ ምንም አይነት እንከን የማይፈልጉ ናቸው ': 'Other reasons ',\n",
       " 'ፍርሀት': 'Other reasons ',\n",
       " ' በወቅቱ ደንበኛዋ ዉል አለመፈረም ': 'Missing Appointments / Not answering phone',\n",
       " 'ብር ትራንስፈር ለማረግ የባንክ ችግር': 'Bank system problem / Unavaliblity of working with Bank ',\n",
       " ' በቀጠሮ ሰዓት ወደ ቢሮ አለመምጣት': 'Missing Appointments / Not answering phone',\n",
       " 'ባል እና ሚስት ያለመስማማት ማለት በሁለቱም ስም መሆን እያለበት በሚስተየዋ ስም ብቻ መሆኑ': 'Agreement form issues  ',\n",
       " 'ዉሃ አና መብራት የለውም ': 'Infrastructure concern  ',\n",
       " ' ቤተሰብ ከቤት ይለቅ መኪና አንዲገዙ ጫና ሲያደርጉባቸው ነበር ': 'Other reasons ',\n",
       " 'እጁ ላይ በቂ ገንዘብ ባለመኖሩ የተነሳ ሽያጩን ለመፈፀም ረጅም ጊዜ መውሰድ': 'Financial handicap / unavailablity of money on hand ',\n",
       " ' የድርጅቱ ኅላ ቀር እና እድሜ ያፈጀ አሰራር': 'The real estates backward system ',\n",
       " ' የ ዋጋው መቀያየራያ ጊዜ አለማወቅ ': 'Payment problem / Dollar payment concern',\n",
       " ' ዉሉ ሲፈረም ወደ አዲስ አበባ ለመምጣት ፍላጎት አለመኖር ': \"Reachablity / Customers' time shortage\",\n",
       " 'የሁለተኛ ክፍያ መደራረብ': 'High second payment ',\n",
       " 'Shortage of full payment': 'Payment problem / Dollar payment concern',\n",
       " ' ያላለቀ ቤት መሆኑ': 'Because they want a finished one ',\n",
       " ' ቀጣይ ክፍያዎች ዋጋቸው መለያየቱ': 'Payment problem / Dollar payment concern',\n",
       " 'የቤቶቹ ጥራት': 'Quality  concern ',\n",
       " 'በ ኮቪድ መከንያት መውታተ ባለመቻላቸው ብር ማግኘተ አልቻሉም ': 'Financial handicap / unavailablity of money on hand ',\n",
       " '0': 'None',\n",
       " 'ቀድሞ የነበረ ስለ አያት መጥፎ አመለካከት': 'Trust concern',\n",
       " 'የጋራ የሆኑ ቦታዎች አለመኖራቸው': 'Infrastructure concern  ',\n",
       " ' the previous home Quality problem': 'Trust concern',\n",
       " 'ሁለተኛ ዙረ ከፈያው ': 'High second payment ',\n",
       " ' የባንክ የተንዛዛ አሰራር ብር ለማስተላለፍ ያለው ሂደት': 'Bank system problem / Unavaliblity of working with Bank ',\n",
       " 'ሁለተኛ ክፍያ 25% መሆኑ': 'High second payment ',\n",
       " ' ሳይት የዞኝ የሚሄድ መኪና ማጣት የትራንስፖርት ችግር ': 'Site car unavailability / Not being able see the site ',\n",
       " ' ድርጅቱ flexable አሰራር አለመኖር': 'The real estates backward system ',\n",
       " 'ቤተሰብ በወቅቱ አያስረክብም በማለት ሃሳብ አስቀይረው ነበር ነገር ግን ራሱ ኃላፊነቱን እወስዳለው በማለት ለመግዛት ቸሏል ': 'Delivery concern ',\n",
       " 'የ በግ ማረጃ አለመኖሩ ': 'Infrastructure concern  ',\n",
       " ' ከሌሎች ሪል እስቴቶች ጋር ሲወዳደር ጥራቱ ዝቅተኛ መሆን ': 'Comparison with other real estates ',\n",
       " 'ከዚህ ቀደም የገዛ በመሆኑ ብዙ ቸግሮች አልነበሩም እሱ ከገዛበት ጊዜ ማለትም ከ አንድ ዓመት ከ ስድስት ወር አስከ አሁን ያለው የግንባታ ሂደት አመርቂ ባለመሆኑ የአመኔታ ቸግሮች ነበሩ ': 'None',\n",
       " ' በኢትዮጵያ ብር እየከፈልን ውሉ ግን በዶላር መሆኑ ': 'Agreement form issues  ',\n",
       " ' የቤቱ የመብራት እና ወሃ ችግር ': 'Infrastructure concern',\n",
       " ' የድርጅቱ ያለመዘምን ኃላ ቀር አሰራር ': 'The real estates backward system ',\n",
       " ' ማስታወቂያ ላይ 7%ቢሮ ሲመጡ ደግሞ 15%መሆኑ ': 'Misinformation / miscommunication within the offices / information gap',\n",
       " ' የመንገድ crowded ': 'Transportation concern / site location',\n",
       " ' የመጀመሪያ ክፍያ በmobile banking ስለተከፈለ ደረሰኝ ለማሰራት ተቸግሬ ነበር': 'Bank system problem / Unavaliblity of working with Bank ',\n",
       " 'ቶሎ ማስረከብ ከቻላችሁ ነው ምንገዛው የሚል አስተያየት ነበራቸው ': 'Delivery concern ',\n",
       " 'የዋጋ መጨመር': 'Prce changes , increase',\n",
       " 'ቀጣይ ክፈያ 25% መሆኑ ': 'High second payment ',\n",
       " 'Urgency for second payment ': 'High second payment ',\n",
       " 'ደንበኛው ውሉን ቶሎ ይፈልግ ነበር ': 'Agreement form issues  ',\n",
       " 'ክፈያ መፈፀም ከባድ ነበር ዉቺ ሰለነበረች ': 'Payment problem / Dollar payment concern',\n",
       " 'ቶሎ ለመወሰን መቸገር ምክንያቱ ደግሞ ከውጭ የሚጠበቁት ገንዘብ ስለነበር': 'Financial handicap / unavailablity of money on hand ',\n",
       " ' ቶሎ የመረዳት ችግር': 'Other reasons ',\n",
       " ' መሃል ከተማ አለመሆኑ ': 'Transportation concern / site location',\n",
       " ' አማራጭ ሳይት አልመኖር ': 'Unavailability of alternative sites ',\n",
       " 'ከክፍለሀገር ሀገር መቶ ስለገዛ ሽያጩ እንዲዘገይ አድርጎታል': \"Reachablity / Customers' time shortage\",\n",
       " 'Missing Appointments ': 'Missing Appointments / Not answering phone',\n",
       " ' አምነት ማታት ': 'Trust concern',\n",
       " 'የቤቱ ግንባታ ሂደት ': 'Delivery concern ',\n",
       " 'በሰአቱ ሰርቶ አለማስረከቡ (ከዚህ በፊት ያሉ ቤቶች)': 'Delivery concern ',\n",
       " ' የዶላር exchange rate ቤተመለከተ ': 'Payment problem / Dollar payment concern',\n",
       " 'ዉል የምፈርመው በሀገር ዉስጥ ነው አለበለዚያ ዉሌን አፈርሳለው እስከማለት ደርሶ ነበር ': 'Agreement form issues  ',\n",
       " 'ሁለተኛው ክፈያ መብዛት አና በሰዓቱ ደንበኛው በቂ ብር ባለመኖሩ ': 'Financial handicap / unavailablity of money on hand ',\n",
       " ' እስካሁን ከ 15 ዓመት በላይ ያልተረከቡ ቤቶች መብራት እና ውሃ ያልገባላቸው መሆኑ': 'Trust concern',\n",
       " 'ሳይት ለማሳየት የትራንስፖርት ችግር በራሳችን ትራንስፓርት ስለምንሄድ ቶሎ አንደርስም ደንበኛው ቀድሞን ይደርሳል ስለዚህ መጉላላት ይኖራል ': 'Site car unavailability / Not being able see the site ',\n",
       " 'የሁለተኛ ክፍያ መደራረብ ': 'High second payment ',\n",
       " 'የአከፋፈል አማራጭ አለመኖሩ': 'Payment problem / Dollar payment concern',\n",
       " 'የ  ዋጋ ዉደነት ': 'Prce changes , increase ',\n",
       " ' የጊዜ እጥረት ': \"Reachablity / Customers' time shortage\",\n",
       " 'እጁ ላይ በቂ ገንዘብ ባለመኖሩ ': 'Financial handicap / unavailablity of money on hand',\n",
       " ' ቀጠሮ አለማክበር ': 'Missing Appointments / Not answering phone',\n",
       " 'Dollar exchange rate ': 'Payment problem / Dollar payment concern',\n",
       " 'ደንበኛዬ በወቅቱ ቢሮ መምጣት አለመቻላቸው በህመም ምክንያት': \"Reachablity / Customers' time shortage\",\n",
       " 'Higher socond payment ': 'High second payment ',\n",
       " 'የጊዜ ማጠር 7% ከፍሎ ከዛ ቀሪዉን 3% ለማስከፈል ደንበኛው በጣም ተጨናንቆ ነበር': 'Financial handicap / unavailablity of money on hand',\n",
       " 'ወደ ታች ወለል ላይ ቤት አለመገኘቱ ': 'Setup / design concern ',\n",
       " 'ተጠቁሞ ሰለመጣ ምንም ችግር አልገጠመንም ': 'None',\n",
       " ' የ ባንክ ሲስተም ': 'Bank system problem / Unavaliblity of working with Bank ',\n",
       " ' ከባንክ ጋር የተያያዘ የብድር አግልግሎት አለመኖር': 'Bank system problem / Unavaliblity of working with Bank ',\n",
       " 'ሌላ የሸያች ሰራተኛ ከኔ ዉቺ ሲያወራም ነበር አኔ ሳላውቅ ': 'Misinformation / miscommunication within the offices / information gap',\n",
       " 'የሚኖሩት ደብረብርሃን ስለነበር በጊዜው መምጣት አለመቻላቸው': \"Reachablity / Customers' time shortage\",\n",
       " 'ቅሬታ መኖሩ ': 'Other reasons ',\n",
       " 'የቀደመ አያት ላይ የነበረ መጥፎ አመለካከት ': 'Trust concern',\n",
       " 'ዉሃ አና መብራት ችግር የ በፊት ቤቶች ላይ ': 'Infrastructure concern  ',\n",
       " ' ደንበኞች አስካሁን ድረስ ያላቸው ስለ አያት አመለካከት እና ቅሬታ ': 'Trust concern',\n",
       " ' ቃል ያለመጠበቅ ስጋት ': 'Trust concern',\n",
       " 'ዉሉ አናንተን ብቻ ያማከለ ነው ': 'Agreement form issues  ',\n",
       " ' የፍሎር ችግር ': 'Setup / design concern ',\n",
       " 'ተወዳዳሪ እና ዘመናዊ የሆነ አሰራር አለመኖር': 'Setup / design concern ',\n",
       " 'የነበራቸው የኦሮሚያ ህብረት ስራ ባንክ ደብተር ስለነበር ወደ ኢትዮጵያ ንግድ ባንክ ለማስተላለፍ ተቸግረዉ ነበር ': 'Bank system problem / Unavaliblity of working with Bank ',\n",
       " 'የተሽተው ቤት ሌላ ቢሮ በድጋሚ ተሸጦ ነበር ': 'Misinformation / miscommunication within the offices / information gap',\n",
       " 'ዉል የሚፈረምበት ጊዜ መራቁ': 'Agreement form issues  ',\n",
       " ' ቤት እየሸጣችሁ ለምን ሱቅ አተሽጡም እኔ ምፈልገው ሁለቱንም ነው': 'Other reasons ',\n",
       " 'የሁለተኛው ክፍያ መደራረብ ': 'High second payment ',\n",
       " ' የሁለተኛዉ ክፍያ መደራረብ ': 'High second payment ',\n",
       " 'ደንበኛው ሚፈልጉት ያለቀ ቤት መሆኑ ': 'Because they want a finished one ',\n",
       " 'የፍሎር ከፍታ': 'Setup / design concern ',\n",
       " ' የደንበኛዉ ሃሳብ መቀያየር ': 'Other reasons ',\n",
       " ' የባንክ ጉዳይ ከባንክ ባንክ ትራንስፈር የማድረግ ችግር ': 'Bank system problem / Unavaliblity of working with Bank ',\n",
       " 'ገንዘብ አንድመለሰ ፈልጎ ቶሎ አለመመልሰ ': 'Other reasons ',\n",
       " 'ማስታወቂያ አና ቢሮ ሲመጡ ያለ የመረጃ ልዩነት': 'Misinformation / miscommunication within the offices / information gap',\n",
       " 'የ አቅም ችግር ካሽ መክፈል ፈልገው ነበር ': 'Financial handicap / unavailablity of money on hand ',\n",
       " 'የተለላየ ቢሮ ሄደው ተንሽ ችግር ነበር ': 'Misinformation / miscommunication within the offices / information gap',\n",
       " 'የአረካከብ ሁኔታ ': 'Other reasons ',\n",
       " 'የጊዜ ሁኔታ ማለትም ቅናሹ የሚቆይበት ጊዜ': 'Short discount time ',\n",
       " ' ባለ 3መኝታ ቤት መርጠው ዉሉ ላይ ባለ 2መኝታ ተብሎ መምጣት ': 'Agreement form issues ',\n",
       " 'ሳይቱ 3 ዓመት መቆየቱ ': 'Delivery concern ',\n",
       " ' not coming in the appointment date ': 'Missing Appointments / Not answering phone',\n",
       " ' መጀመሪያ ሊከፍል የነበረው በ cash ነበር ከዛ የረጅም ጊዜ ክፍያ በመምረጡ credit ሊከፍል ችሏል ': 'Payment problem / Dollar payment concern',\n",
       " 'የ ደንበኛ መጉላላ ት': 'Customer service problem ',\n",
       " 'ውሉ ለትንሽ ጊዜ የዘገየ ነበር': 'Agreement form issues  ',\n",
       " 'ዶላር በየጊዜው መጨመር': 'Payment problem / Dollar payment concern',\n",
       " 'የትራንስፖርት ችግር': 'Site car unavailability / Not being able see the site ',\n",
       " 'ዉሃና መብራት ቶሎ አለመግተም ': 'Infrastructure concern  ',\n",
       " ' ውል ለማስፈረም የርቀት መኖር ': 'Site car unavailability / Not being able see the site ',\n",
       " ' ቀጠሮ ማብዛት': 'Missing Appointments / Not answering phone',\n",
       " 'የሁለተኛ ክፍያ መብዛት እና ቶሎ እጠየቃለው የሚል ስጋት ': 'High second payment ',\n",
       " 'ቅናሽ አንድ ሳምንት ቀረው ብለን ተነጋግረን ተደጋግሞ ሲራዘም በደንበኞች ዘንድ ተአማኒነት ማጣት ': 'Other reasons ',\n",
       " 'የ ዋጋ ቅናሹ ማጠሩ ጊዜው ': 'Short discount time ',\n",
       " 'የሁለተኛ ክፍያ ጊዜ': 'High second payment ',\n",
       " ' የመጀመሪያውን 10% ብቻ ነበር የከፈሉት ': 'Financial handicap / unavailablity of money on hand ',\n",
       " ' ሁለተኛ ክፍያ ከአቅም በላይ ነው ': 'High second payment ',\n",
       " 'Higher amount of second payment ': 'High second payment ',\n",
       " 'ከሌላ realstate ጋር በማወዳደር': 'Comparison with other real estates ',\n",
       " 'በተደጋጋሚ መደወላቸው ': 'Customer service problem ',\n",
       " 'የቀደመው አያት ላይ የነበረው መጥፎ አመለካከት ': 'Trust concern ',\n",
       " 'ቀድሞ የነበረው ስለ አያት አመለካከት ': 'Trust concern ',\n",
       " ' የድርጅቱ ኃላ ቀር አሰራር አማራጭ ሳይት አለመኖር ': 'The real estates backward system ',\n",
       " ' አያት ቶሎ ቤት አያስረክብም የሚል ተጨባጭ የሆነ ማስረጃ አቅርባለች ': 'Delivery concern ',\n",
       " ' የድርጅቱ መኪኖች በሰዓቱ አለመገኘት ብር ከኪሳችን አዉጥተን ትራንስፖርት መጠቀማችን ': 'Site car unavailability / Not being able see the site ',\n",
       " ' 15% እንዲከፍል ደጋግሜ መንገር': 'Payment problem / Dollar payment concern',\n",
       " 'ሳይቱ ለመጎብኘት ምቹ አለመሆን': 'Site car unavailability / Not being able see the site ',\n",
       " ' ውሉ ለድርጅቱ ያደላ ነው ': 'Agreement form issues  ',\n",
       " 'የ ገንዘብ አላላክ ቸገር ': 'Payment problem / Dollar payment concern',\n",
       " '15% መክፈል አለመቻል ': 'Financial handicap / unavailablity of money on hand ',\n",
       " 'ሁለተኛ ክፈያ 25% መሆኑ ': 'High second payment ',\n",
       " 'Misunderstanding of Brochure information  ': 'Misinformation / miscommunication within the offices / information gap',\n",
       " ' በወቅቱ ሳይቱን በተወካዮች በኩል ለማሳየት ተወካዮች የቀጠሮ ቀኑን መሰረዝ ': 'Missing Appointments / Not answering phone',\n",
       " 'ድርጅቱ የሚጠቀመው ፊኒሺንግ ማቴሪያል ጥሩ አለመሆኑ': 'Quality  concern ',\n",
       " 'ዝቅተኛ ፍሎር አለመኖረ አና ዉሃ አና መብራት የለውም ': 'Infrastructure concern  ',\n",
       " 'የ ጊዜ መጣበብ ': \"Reachablity / Customers' time shortage\",\n",
       " 'የፍኒሺንግ ዕቃ ጥራት': 'Quality  concern ',\n",
       " ' ሁለተኛው ክፍያ መክበድ': 'High second payment ',\n",
       " ' ዉሃ መብራት ችግር ': 'Infrastructure concern  ',\n",
       " 'ሽያጭ ላይ ፍሎር ከፍ ማለቱ ': 'Setup / design concern',\n",
       " 'ጊዜ አለመኖር አና ቢሮ አለመምጣት ': \"Reachablity / Customers' time shortage\",\n",
       " 'Previous Buildings Quality Problem': 'Quality  concern ',\n",
       " 'የ ዉል መራዘም አና ስተተ ': 'Agreement form issues  ',\n",
       " 'የ ቅናሽ ጊዜው በማጠሩ ': 'Short discount time ',\n",
       " ' ብር ጎሎብኛል የሚል ተደጋጋሚ ጥያቄ ': 'Financial handicap / unavailablity of money on hand ',\n",
       " 'ደንበኛው ቢዚ መሆኑዋን': \"Reachablity / Customers' time shortage\",\n",
       " 'ቤቶቹ ጠባብ ናቸው የሚል ': 'Setup / design concern ',\n",
       " 'Not coming in the appointment Day ': 'Missing Appointments / Not answering phone'}"
      ]
     },
     "execution_count": 294,
     "metadata": {},
     "output_type": "execute_result"
    }
   ],
   "source": [
    "buyingChallengeData = pd.read_csv(\"በሽያጭ_ሂደቱ_ያጋጠሙ_ችግሮች.csv\", encoding='utf-8')\n",
    "#choiceData['Parameters'].value_counts()\n",
    "buyingChallengeDataDICT = dict(zip(buyingChallengeData.በሽያጭ_ሂደቱ_ያጋጠሙ_ችግሮች, buyingChallengeData.Parameters))\n",
    "buyingChallengeDataDICT"
   ]
  },
  {
   "cell_type": "code",
   "execution_count": 297,
   "metadata": {},
   "outputs": [
    {
     "data": {
      "text/html": [
       "<div>\n",
       "<style scoped>\n",
       "    .dataframe tbody tr th:only-of-type {\n",
       "        vertical-align: middle;\n",
       "    }\n",
       "\n",
       "    .dataframe tbody tr th {\n",
       "        vertical-align: top;\n",
       "    }\n",
       "\n",
       "    .dataframe thead th {\n",
       "        text-align: right;\n",
       "    }\n",
       "</style>\n",
       "<table border=\"1\" class=\"dataframe\">\n",
       "  <thead>\n",
       "    <tr style=\"text-align: right;\">\n",
       "      <th></th>\n",
       "      <th>Unnamed: 0</th>\n",
       "      <th>ReferenceNumber</th>\n",
       "      <th>በሽያጭ_ሂደቱ_ያጋጠሙ_ችግሮች</th>\n",
       "    </tr>\n",
       "  </thead>\n",
       "  <tbody>\n",
       "    <tr>\n",
       "      <th>0</th>\n",
       "      <td>0</td>\n",
       "      <td>1</td>\n",
       "      <td>Misinformation / miscommunication within the o...</td>\n",
       "    </tr>\n",
       "    <tr>\n",
       "      <th>1</th>\n",
       "      <td>1</td>\n",
       "      <td>2</td>\n",
       "      <td>Payment problem / Dollar payment concern</td>\n",
       "    </tr>\n",
       "    <tr>\n",
       "      <th>2</th>\n",
       "      <td>2</td>\n",
       "      <td>2</td>\n",
       "      <td>Other reasons</td>\n",
       "    </tr>\n",
       "    <tr>\n",
       "      <th>3</th>\n",
       "      <td>3</td>\n",
       "      <td>3</td>\n",
       "      <td>Prce changes , increase</td>\n",
       "    </tr>\n",
       "    <tr>\n",
       "      <th>4</th>\n",
       "      <td>4</td>\n",
       "      <td>3</td>\n",
       "      <td>Unavaliblity of sample house</td>\n",
       "    </tr>\n",
       "    <tr>\n",
       "      <th>5</th>\n",
       "      <td>5</td>\n",
       "      <td>4</td>\n",
       "      <td>Delivery concern</td>\n",
       "    </tr>\n",
       "    <tr>\n",
       "      <th>6</th>\n",
       "      <td>6</td>\n",
       "      <td>5</td>\n",
       "      <td>Prce changes , increase</td>\n",
       "    </tr>\n",
       "    <tr>\n",
       "      <th>7</th>\n",
       "      <td>7</td>\n",
       "      <td>5</td>\n",
       "      <td>Delivery concern</td>\n",
       "    </tr>\n",
       "    <tr>\n",
       "      <th>8</th>\n",
       "      <td>8</td>\n",
       "      <td>6</td>\n",
       "      <td>Payment problem / Dollar payment concern</td>\n",
       "    </tr>\n",
       "    <tr>\n",
       "      <th>9</th>\n",
       "      <td>9</td>\n",
       "      <td>6</td>\n",
       "      <td>Delivery concern</td>\n",
       "    </tr>\n",
       "    <tr>\n",
       "      <th>10</th>\n",
       "      <td>10</td>\n",
       "      <td>9</td>\n",
       "      <td>None</td>\n",
       "    </tr>\n",
       "    <tr>\n",
       "      <th>11</th>\n",
       "      <td>11</td>\n",
       "      <td>10</td>\n",
       "      <td>None</td>\n",
       "    </tr>\n",
       "    <tr>\n",
       "      <th>12</th>\n",
       "      <td>12</td>\n",
       "      <td>11</td>\n",
       "      <td>None</td>\n",
       "    </tr>\n",
       "    <tr>\n",
       "      <th>13</th>\n",
       "      <td>13</td>\n",
       "      <td>12</td>\n",
       "      <td>None</td>\n",
       "    </tr>\n",
       "    <tr>\n",
       "      <th>14</th>\n",
       "      <td>14</td>\n",
       "      <td>13</td>\n",
       "      <td>None</td>\n",
       "    </tr>\n",
       "    <tr>\n",
       "      <th>15</th>\n",
       "      <td>15</td>\n",
       "      <td>14</td>\n",
       "      <td>Payment problem / Dollar payment concern</td>\n",
       "    </tr>\n",
       "    <tr>\n",
       "      <th>16</th>\n",
       "      <td>16</td>\n",
       "      <td>14</td>\n",
       "      <td>Delivery concern</td>\n",
       "    </tr>\n",
       "    <tr>\n",
       "      <th>17</th>\n",
       "      <td>17</td>\n",
       "      <td>20</td>\n",
       "      <td>Unavaliblity of sample house</td>\n",
       "    </tr>\n",
       "    <tr>\n",
       "      <th>18</th>\n",
       "      <td>18</td>\n",
       "      <td>20</td>\n",
       "      <td>Delivery concern</td>\n",
       "    </tr>\n",
       "    <tr>\n",
       "      <th>19</th>\n",
       "      <td>19</td>\n",
       "      <td>20</td>\n",
       "      <td>Delivery concern</td>\n",
       "    </tr>\n",
       "    <tr>\n",
       "      <th>20</th>\n",
       "      <td>20</td>\n",
       "      <td>20</td>\n",
       "      <td>Setup / design concern</td>\n",
       "    </tr>\n",
       "    <tr>\n",
       "      <th>21</th>\n",
       "      <td>21</td>\n",
       "      <td>21</td>\n",
       "      <td>Other reasons</td>\n",
       "    </tr>\n",
       "    <tr>\n",
       "      <th>22</th>\n",
       "      <td>22</td>\n",
       "      <td>22</td>\n",
       "      <td>Payment problem / Dollar payment concern</td>\n",
       "    </tr>\n",
       "    <tr>\n",
       "      <th>23</th>\n",
       "      <td>23</td>\n",
       "      <td>22</td>\n",
       "      <td>Delivery concern</td>\n",
       "    </tr>\n",
       "    <tr>\n",
       "      <th>24</th>\n",
       "      <td>24</td>\n",
       "      <td>22</td>\n",
       "      <td>Infrastructure concern</td>\n",
       "    </tr>\n",
       "    <tr>\n",
       "      <th>25</th>\n",
       "      <td>25</td>\n",
       "      <td>22</td>\n",
       "      <td>Trust concern</td>\n",
       "    </tr>\n",
       "    <tr>\n",
       "      <th>26</th>\n",
       "      <td>26</td>\n",
       "      <td>23</td>\n",
       "      <td>Payment problem / Dollar payment concern</td>\n",
       "    </tr>\n",
       "    <tr>\n",
       "      <th>27</th>\n",
       "      <td>27</td>\n",
       "      <td>23</td>\n",
       "      <td>Unavaliblity of sample house</td>\n",
       "    </tr>\n",
       "    <tr>\n",
       "      <th>28</th>\n",
       "      <td>28</td>\n",
       "      <td>23</td>\n",
       "      <td>Delivery concern</td>\n",
       "    </tr>\n",
       "    <tr>\n",
       "      <th>29</th>\n",
       "      <td>29</td>\n",
       "      <td>23</td>\n",
       "      <td>Quality  concern</td>\n",
       "    </tr>\n",
       "    <tr>\n",
       "      <th>...</th>\n",
       "      <td>...</td>\n",
       "      <td>...</td>\n",
       "      <td>...</td>\n",
       "    </tr>\n",
       "    <tr>\n",
       "      <th>1627</th>\n",
       "      <td>1627</td>\n",
       "      <td>611</td>\n",
       "      <td>Misinformation / miscommunication within the o...</td>\n",
       "    </tr>\n",
       "    <tr>\n",
       "      <th>1628</th>\n",
       "      <td>1628</td>\n",
       "      <td>612</td>\n",
       "      <td>Payment problem / Dollar payment concern</td>\n",
       "    </tr>\n",
       "    <tr>\n",
       "      <th>1629</th>\n",
       "      <td>1629</td>\n",
       "      <td>612</td>\n",
       "      <td>Delivery concern</td>\n",
       "    </tr>\n",
       "    <tr>\n",
       "      <th>1630</th>\n",
       "      <td>1630</td>\n",
       "      <td>612</td>\n",
       "      <td>Misinformation / miscommunication within the o...</td>\n",
       "    </tr>\n",
       "    <tr>\n",
       "      <th>1631</th>\n",
       "      <td>1631</td>\n",
       "      <td>612</td>\n",
       "      <td>Misinformation / miscommunication within the o...</td>\n",
       "    </tr>\n",
       "    <tr>\n",
       "      <th>1632</th>\n",
       "      <td>1632</td>\n",
       "      <td>613</td>\n",
       "      <td>Payment problem / Dollar payment concern</td>\n",
       "    </tr>\n",
       "    <tr>\n",
       "      <th>1633</th>\n",
       "      <td>1633</td>\n",
       "      <td>613</td>\n",
       "      <td>Delivery concern</td>\n",
       "    </tr>\n",
       "    <tr>\n",
       "      <th>1634</th>\n",
       "      <td>1634</td>\n",
       "      <td>613</td>\n",
       "      <td>High second payment</td>\n",
       "    </tr>\n",
       "    <tr>\n",
       "      <th>1635</th>\n",
       "      <td>1635</td>\n",
       "      <td>613</td>\n",
       "      <td>Misinformation / miscommunication within the o...</td>\n",
       "    </tr>\n",
       "    <tr>\n",
       "      <th>1636</th>\n",
       "      <td>1636</td>\n",
       "      <td>614</td>\n",
       "      <td>Payment problem / Dollar payment concern</td>\n",
       "    </tr>\n",
       "    <tr>\n",
       "      <th>1637</th>\n",
       "      <td>1637</td>\n",
       "      <td>614</td>\n",
       "      <td>Delivery concern</td>\n",
       "    </tr>\n",
       "    <tr>\n",
       "      <th>1638</th>\n",
       "      <td>1638</td>\n",
       "      <td>614</td>\n",
       "      <td>High second payment</td>\n",
       "    </tr>\n",
       "    <tr>\n",
       "      <th>1639</th>\n",
       "      <td>1639</td>\n",
       "      <td>615</td>\n",
       "      <td>Payment problem / Dollar payment concern</td>\n",
       "    </tr>\n",
       "    <tr>\n",
       "      <th>1640</th>\n",
       "      <td>1640</td>\n",
       "      <td>615</td>\n",
       "      <td>Prce changes , increase</td>\n",
       "    </tr>\n",
       "    <tr>\n",
       "      <th>1641</th>\n",
       "      <td>1641</td>\n",
       "      <td>615</td>\n",
       "      <td>Delivery concern</td>\n",
       "    </tr>\n",
       "    <tr>\n",
       "      <th>1642</th>\n",
       "      <td>1642</td>\n",
       "      <td>615</td>\n",
       "      <td>Payment problem / Dollar payment concern</td>\n",
       "    </tr>\n",
       "    <tr>\n",
       "      <th>1643</th>\n",
       "      <td>1643</td>\n",
       "      <td>615</td>\n",
       "      <td>Other reasons</td>\n",
       "    </tr>\n",
       "    <tr>\n",
       "      <th>1644</th>\n",
       "      <td>1644</td>\n",
       "      <td>616</td>\n",
       "      <td>Payment problem / Dollar payment concern</td>\n",
       "    </tr>\n",
       "    <tr>\n",
       "      <th>1645</th>\n",
       "      <td>1645</td>\n",
       "      <td>616</td>\n",
       "      <td>Delivery concern</td>\n",
       "    </tr>\n",
       "    <tr>\n",
       "      <th>1646</th>\n",
       "      <td>1646</td>\n",
       "      <td>616</td>\n",
       "      <td>Infrastructure concern</td>\n",
       "    </tr>\n",
       "    <tr>\n",
       "      <th>1647</th>\n",
       "      <td>1647</td>\n",
       "      <td>617</td>\n",
       "      <td>Payment problem / Dollar payment concern</td>\n",
       "    </tr>\n",
       "    <tr>\n",
       "      <th>1648</th>\n",
       "      <td>1648</td>\n",
       "      <td>617</td>\n",
       "      <td>Delivery concern</td>\n",
       "    </tr>\n",
       "    <tr>\n",
       "      <th>1649</th>\n",
       "      <td>1649</td>\n",
       "      <td>618</td>\n",
       "      <td>Payment problem / Dollar payment concern</td>\n",
       "    </tr>\n",
       "    <tr>\n",
       "      <th>1650</th>\n",
       "      <td>1650</td>\n",
       "      <td>618</td>\n",
       "      <td>Prce changes , increase</td>\n",
       "    </tr>\n",
       "    <tr>\n",
       "      <th>1651</th>\n",
       "      <td>1651</td>\n",
       "      <td>618</td>\n",
       "      <td>Misinformation / miscommunication within the o...</td>\n",
       "    </tr>\n",
       "    <tr>\n",
       "      <th>1652</th>\n",
       "      <td>1652</td>\n",
       "      <td>618</td>\n",
       "      <td>Agreement form issues</td>\n",
       "    </tr>\n",
       "    <tr>\n",
       "      <th>1653</th>\n",
       "      <td>1653</td>\n",
       "      <td>619</td>\n",
       "      <td>Payment problem / Dollar payment concern</td>\n",
       "    </tr>\n",
       "    <tr>\n",
       "      <th>1654</th>\n",
       "      <td>1654</td>\n",
       "      <td>619</td>\n",
       "      <td>Misinformation / miscommunication within the o...</td>\n",
       "    </tr>\n",
       "    <tr>\n",
       "      <th>1655</th>\n",
       "      <td>1655</td>\n",
       "      <td>620</td>\n",
       "      <td>Payment problem / Dollar payment concern</td>\n",
       "    </tr>\n",
       "    <tr>\n",
       "      <th>1656</th>\n",
       "      <td>1656</td>\n",
       "      <td>620</td>\n",
       "      <td>Prce changes , increase</td>\n",
       "    </tr>\n",
       "  </tbody>\n",
       "</table>\n",
       "<p>1657 rows × 3 columns</p>\n",
       "</div>"
      ],
      "text/plain": [
       "      Unnamed: 0  ReferenceNumber  \\\n",
       "0              0                1   \n",
       "1              1                2   \n",
       "2              2                2   \n",
       "3              3                3   \n",
       "4              4                3   \n",
       "5              5                4   \n",
       "6              6                5   \n",
       "7              7                5   \n",
       "8              8                6   \n",
       "9              9                6   \n",
       "10            10                9   \n",
       "11            11               10   \n",
       "12            12               11   \n",
       "13            13               12   \n",
       "14            14               13   \n",
       "15            15               14   \n",
       "16            16               14   \n",
       "17            17               20   \n",
       "18            18               20   \n",
       "19            19               20   \n",
       "20            20               20   \n",
       "21            21               21   \n",
       "22            22               22   \n",
       "23            23               22   \n",
       "24            24               22   \n",
       "25            25               22   \n",
       "26            26               23   \n",
       "27            27               23   \n",
       "28            28               23   \n",
       "29            29               23   \n",
       "...          ...              ...   \n",
       "1627        1627              611   \n",
       "1628        1628              612   \n",
       "1629        1629              612   \n",
       "1630        1630              612   \n",
       "1631        1631              612   \n",
       "1632        1632              613   \n",
       "1633        1633              613   \n",
       "1634        1634              613   \n",
       "1635        1635              613   \n",
       "1636        1636              614   \n",
       "1637        1637              614   \n",
       "1638        1638              614   \n",
       "1639        1639              615   \n",
       "1640        1640              615   \n",
       "1641        1641              615   \n",
       "1642        1642              615   \n",
       "1643        1643              615   \n",
       "1644        1644              616   \n",
       "1645        1645              616   \n",
       "1646        1646              616   \n",
       "1647        1647              617   \n",
       "1648        1648              617   \n",
       "1649        1649              618   \n",
       "1650        1650              618   \n",
       "1651        1651              618   \n",
       "1652        1652              618   \n",
       "1653        1653              619   \n",
       "1654        1654              619   \n",
       "1655        1655              620   \n",
       "1656        1656              620   \n",
       "\n",
       "                                     በሽያጭ_ሂደቱ_ያጋጠሙ_ችግሮች  \n",
       "0     Misinformation / miscommunication within the o...  \n",
       "1              Payment problem / Dollar payment concern  \n",
       "2                                        Other reasons   \n",
       "3                              Prce changes , increase   \n",
       "4                          Unavaliblity of sample house  \n",
       "5                                     Delivery concern   \n",
       "6                              Prce changes , increase   \n",
       "7                                     Delivery concern   \n",
       "8              Payment problem / Dollar payment concern  \n",
       "9                                     Delivery concern   \n",
       "10                                                 None  \n",
       "11                                                 None  \n",
       "12                                                 None  \n",
       "13                                                 None  \n",
       "14                                                 None  \n",
       "15             Payment problem / Dollar payment concern  \n",
       "16                                    Delivery concern   \n",
       "17                         Unavaliblity of sample house  \n",
       "18                                    Delivery concern   \n",
       "19                                    Delivery concern   \n",
       "20                              Setup / design concern   \n",
       "21                                       Other reasons   \n",
       "22             Payment problem / Dollar payment concern  \n",
       "23                                    Delivery concern   \n",
       "24                             Infrastructure concern    \n",
       "25                                        Trust concern  \n",
       "26             Payment problem / Dollar payment concern  \n",
       "27                         Unavaliblity of sample house  \n",
       "28                                    Delivery concern   \n",
       "29                                    Quality  concern   \n",
       "...                                                 ...  \n",
       "1627  Misinformation / miscommunication within the o...  \n",
       "1628           Payment problem / Dollar payment concern  \n",
       "1629                                  Delivery concern   \n",
       "1630  Misinformation / miscommunication within the o...  \n",
       "1631  Misinformation / miscommunication within the o...  \n",
       "1632           Payment problem / Dollar payment concern  \n",
       "1633                                  Delivery concern   \n",
       "1634                               High second payment   \n",
       "1635  Misinformation / miscommunication within the o...  \n",
       "1636           Payment problem / Dollar payment concern  \n",
       "1637                                  Delivery concern   \n",
       "1638                               High second payment   \n",
       "1639           Payment problem / Dollar payment concern  \n",
       "1640                           Prce changes , increase   \n",
       "1641                                  Delivery concern   \n",
       "1642           Payment problem / Dollar payment concern  \n",
       "1643                                     Other reasons   \n",
       "1644           Payment problem / Dollar payment concern  \n",
       "1645                                  Delivery concern   \n",
       "1646                           Infrastructure concern    \n",
       "1647           Payment problem / Dollar payment concern  \n",
       "1648                                  Delivery concern   \n",
       "1649           Payment problem / Dollar payment concern  \n",
       "1650                           Prce changes , increase   \n",
       "1651  Misinformation / miscommunication within the o...  \n",
       "1652                            Agreement form issues    \n",
       "1653           Payment problem / Dollar payment concern  \n",
       "1654  Misinformation / miscommunication within the o...  \n",
       "1655           Payment problem / Dollar payment concern  \n",
       "1656                           Prce changes , increase   \n",
       "\n",
       "[1657 rows x 3 columns]"
      ]
     },
     "execution_count": 297,
     "metadata": {},
     "output_type": "execute_result"
    }
   ],
   "source": [
    "rawdata[\"በሽያጭ_ሂደቱ_ያጋጠሙ_ችግሮች\"].replace(buyingChallengeDataDICT, inplace=True)\n",
    "rawdata"
   ]
  },
  {
   "cell_type": "code",
   "execution_count": 298,
   "metadata": {},
   "outputs": [
    {
     "data": {
      "text/html": [
       "<div>\n",
       "<style scoped>\n",
       "    .dataframe tbody tr th:only-of-type {\n",
       "        vertical-align: middle;\n",
       "    }\n",
       "\n",
       "    .dataframe tbody tr th {\n",
       "        vertical-align: top;\n",
       "    }\n",
       "\n",
       "    .dataframe thead th {\n",
       "        text-align: right;\n",
       "    }\n",
       "</style>\n",
       "<table border=\"1\" class=\"dataframe\">\n",
       "  <thead>\n",
       "    <tr style=\"text-align: right;\">\n",
       "      <th></th>\n",
       "      <th>በሽያጭ_ሂደቱ_ያጋጠሙ_ችግሮች</th>\n",
       "      <th>Values</th>\n",
       "    </tr>\n",
       "  </thead>\n",
       "  <tbody>\n",
       "    <tr>\n",
       "      <th>0</th>\n",
       "      <td>Delivery concern</td>\n",
       "      <td>388</td>\n",
       "    </tr>\n",
       "    <tr>\n",
       "      <th>1</th>\n",
       "      <td>Payment problem / Dollar payment concern</td>\n",
       "      <td>309</td>\n",
       "    </tr>\n",
       "    <tr>\n",
       "      <th>2</th>\n",
       "      <td>Setup / design concern</td>\n",
       "      <td>139</td>\n",
       "    </tr>\n",
       "    <tr>\n",
       "      <th>3</th>\n",
       "      <td>Quality  concern</td>\n",
       "      <td>121</td>\n",
       "    </tr>\n",
       "    <tr>\n",
       "      <th>4</th>\n",
       "      <td>view  ማግኘት  አለመቻሉ</td>\n",
       "      <td>102</td>\n",
       "    </tr>\n",
       "    <tr>\n",
       "      <th>5</th>\n",
       "      <td>Prce changes , increase</td>\n",
       "      <td>98</td>\n",
       "    </tr>\n",
       "    <tr>\n",
       "      <th>6</th>\n",
       "      <td>Unavaliblity of sample house</td>\n",
       "      <td>87</td>\n",
       "    </tr>\n",
       "    <tr>\n",
       "      <th>7</th>\n",
       "      <td>High second payment</td>\n",
       "      <td>65</td>\n",
       "    </tr>\n",
       "    <tr>\n",
       "      <th>8</th>\n",
       "      <td>None</td>\n",
       "      <td>47</td>\n",
       "    </tr>\n",
       "    <tr>\n",
       "      <th>9</th>\n",
       "      <td>Other reasons</td>\n",
       "      <td>46</td>\n",
       "    </tr>\n",
       "    <tr>\n",
       "      <th>10</th>\n",
       "      <td>Misinformation / miscommunication within the o...</td>\n",
       "      <td>37</td>\n",
       "    </tr>\n",
       "    <tr>\n",
       "      <th>11</th>\n",
       "      <td>Missing Appointments / Not answering phone</td>\n",
       "      <td>24</td>\n",
       "    </tr>\n",
       "    <tr>\n",
       "      <th>12</th>\n",
       "      <td>Financial handicap / unavailablity of money on...</td>\n",
       "      <td>21</td>\n",
       "    </tr>\n",
       "    <tr>\n",
       "      <th>13</th>\n",
       "      <td>Reachablity / Customers' time shortage</td>\n",
       "      <td>21</td>\n",
       "    </tr>\n",
       "    <tr>\n",
       "      <th>14</th>\n",
       "      <td>Agreement form issues</td>\n",
       "      <td>19</td>\n",
       "    </tr>\n",
       "    <tr>\n",
       "      <th>15</th>\n",
       "      <td>Bank system problem / Unavaliblity of working ...</td>\n",
       "      <td>18</td>\n",
       "    </tr>\n",
       "    <tr>\n",
       "      <th>16</th>\n",
       "      <td>Infrastructure concern</td>\n",
       "      <td>16</td>\n",
       "    </tr>\n",
       "    <tr>\n",
       "      <th>17</th>\n",
       "      <td>Site car unavailability / Not being able see t...</td>\n",
       "      <td>16</td>\n",
       "    </tr>\n",
       "    <tr>\n",
       "      <th>18</th>\n",
       "      <td>Trust concern</td>\n",
       "      <td>14</td>\n",
       "    </tr>\n",
       "    <tr>\n",
       "      <th>19</th>\n",
       "      <td>Trust concern</td>\n",
       "      <td>11</td>\n",
       "    </tr>\n",
       "    <tr>\n",
       "      <th>20</th>\n",
       "      <td>Customer service problem</td>\n",
       "      <td>10</td>\n",
       "    </tr>\n",
       "    <tr>\n",
       "      <th>21</th>\n",
       "      <td>Transportation concern / site location</td>\n",
       "      <td>9</td>\n",
       "    </tr>\n",
       "    <tr>\n",
       "      <th>22</th>\n",
       "      <td>The real estates backward system</td>\n",
       "      <td>8</td>\n",
       "    </tr>\n",
       "    <tr>\n",
       "      <th>23</th>\n",
       "      <td>Because they want a finished one</td>\n",
       "      <td>5</td>\n",
       "    </tr>\n",
       "    <tr>\n",
       "      <th>24</th>\n",
       "      <td>Short discount time</td>\n",
       "      <td>4</td>\n",
       "    </tr>\n",
       "    <tr>\n",
       "      <th>25</th>\n",
       "      <td>Comparison with other real estates</td>\n",
       "      <td>4</td>\n",
       "    </tr>\n",
       "    <tr>\n",
       "      <th>26</th>\n",
       "      <td>Unavaliblity of loan provision for the sf</td>\n",
       "      <td>4</td>\n",
       "    </tr>\n",
       "    <tr>\n",
       "      <th>27</th>\n",
       "      <td>Unavailability of alternative sites</td>\n",
       "      <td>4</td>\n",
       "    </tr>\n",
       "    <tr>\n",
       "      <th>28</th>\n",
       "      <td>Financial handicap / unavailablity of money on...</td>\n",
       "      <td>3</td>\n",
       "    </tr>\n",
       "    <tr>\n",
       "      <th>29</th>\n",
       "      <td>Current situation of the country</td>\n",
       "      <td>2</td>\n",
       "    </tr>\n",
       "    <tr>\n",
       "      <th>30</th>\n",
       "      <td></td>\n",
       "      <td>1</td>\n",
       "    </tr>\n",
       "    <tr>\n",
       "      <th>31</th>\n",
       "      <td>Prce changes , increase</td>\n",
       "      <td>1</td>\n",
       "    </tr>\n",
       "    <tr>\n",
       "      <th>32</th>\n",
       "      <td>Setup / design concern</td>\n",
       "      <td>1</td>\n",
       "    </tr>\n",
       "    <tr>\n",
       "      <th>33</th>\n",
       "      <td>Agreement form issues</td>\n",
       "      <td>1</td>\n",
       "    </tr>\n",
       "    <tr>\n",
       "      <th>34</th>\n",
       "      <td>Infrastructure concern</td>\n",
       "      <td>1</td>\n",
       "    </tr>\n",
       "  </tbody>\n",
       "</table>\n",
       "</div>"
      ],
      "text/plain": [
       "                                   በሽያጭ_ሂደቱ_ያጋጠሙ_ችግሮች  Values\n",
       "0                                   Delivery concern      388\n",
       "1            Payment problem / Dollar payment concern     309\n",
       "2                             Setup / design concern      139\n",
       "3                                   Quality  concern      121\n",
       "4                                   view  ማግኘት  አለመቻሉ     102\n",
       "5                            Prce changes , increase       98\n",
       "6                        Unavaliblity of sample house      87\n",
       "7                                High second payment       65\n",
       "8                                                None      47\n",
       "9                                      Other reasons       46\n",
       "10  Misinformation / miscommunication within the o...      37\n",
       "11         Missing Appointments / Not answering phone      24\n",
       "12  Financial handicap / unavailablity of money on...      21\n",
       "13             Reachablity / Customers' time shortage      21\n",
       "14                            Agreement form issues        19\n",
       "15  Bank system problem / Unavaliblity of working ...      18\n",
       "16                           Infrastructure concern        16\n",
       "17  Site car unavailability / Not being able see t...      16\n",
       "18                                     Trust concern       14\n",
       "19                                      Trust concern      11\n",
       "20                          Customer service problem       10\n",
       "21             Transportation concern / site location       9\n",
       "22                  The real estates backward system        8\n",
       "23                  Because they want a finished one        5\n",
       "24                               Short discount time        4\n",
       "25                Comparison with other real estates        4\n",
       "26          Unavaliblity of loan provision for the sf       4\n",
       "27               Unavailability of alternative sites        4\n",
       "28  Financial handicap / unavailablity of money on...       3\n",
       "29                  Current situation of the country        2\n",
       "30                                                          1\n",
       "31                            Prce changes , increase       1\n",
       "32                             Setup / design concern       1\n",
       "33                             Agreement form issues        1\n",
       "34                             Infrastructure concern       1"
      ]
     },
     "execution_count": 298,
     "metadata": {},
     "output_type": "execute_result"
    }
   ],
   "source": [
    "viz_count = rawdata['በሽያጭ_ሂደቱ_ያጋጠሙ_ችግሮች'].value_counts()\n",
    "viz_count = pd.DataFrame({'በሽያጭ_ሂደቱ_ያጋጠሙ_ችግሮች': viz_count.index,\n",
    "                              'Values': viz_count.values})\n",
    "viz_count"
   ]
  },
  {
   "cell_type": "markdown",
   "metadata": {},
   "source": [
    "#### አያትን_የመረጡበት_ምክንያት"
   ]
  },
  {
   "cell_type": "code",
   "execution_count": 80,
   "metadata": {},
   "outputs": [],
   "source": [
    "reasonforSelection = pd.read_csv(\"አያትን_የመረጡበት_ምክንያት.csv\", encoding='utf-8')\n",
    "reasonforSelectionDICT = dict(zip(reasonforSelection.አያትን_የመረጡበት_ምክንያት, reasonforSelection.Parameters))\n",
    "#reasonforSelectionDICT"
   ]
  },
  {
   "cell_type": "markdown",
   "metadata": {},
   "source": [
    "#### ሌሎች_ሽያጭ_ሂደቱB1_የረዱ_ጉዳዮች"
   ]
  },
  {
   "cell_type": "code",
   "execution_count": 81,
   "metadata": {},
   "outputs": [],
   "source": [
    "othersReason = pd.read_csv(\"ሌሎች_ሽያጭ_ሂደቱB1_የረዱ_ጉዳዮች.csv\", encoding='utf-8')\n",
    "othersReasonDICT = dict(zip(othersReason.ሌሎች_ሽያጭ_ሂደቱB1_የረዱ_ጉዳዮች, othersReason.Parameters))\n",
    "#othersReasonDICT"
   ]
  },
  {
   "cell_type": "markdown",
   "metadata": {},
   "source": [
    "#### የግዝ_ውሳኒውን_ያሳኩ_ምክንያቶች"
   ]
  },
  {
   "cell_type": "code",
   "execution_count": 74,
   "metadata": {},
   "outputs": [],
   "source": [
    "buyingReason = pd.read_csv(\"የግዝ_ውሳኒውን_ያሳኩ_ምክንያቶች.csv\", encoding='utf-8')\n",
    "buyingReasonDICT = dict(zip(buyingReason.የግዝ_ውሳኒውን_ያሳኩ_ምክንያቶች, buyingReason.Parameters))"
   ]
  },
  {
   "cell_type": "code",
   "execution_count": 9,
   "metadata": {},
   "outputs": [],
   "source": [
    "#mdict = dict(zip(mapData.በሽያጭ_ሂደቱ_ያጋጠሙ_ችግሮች, mapData.Parameters))\n",
    "#mdict"
   ]
  },
  {
   "cell_type": "code",
   "execution_count": 10,
   "metadata": {},
   "outputs": [],
   "source": [
    "#Mapped information as DiCT\n",
    "mapDict2 = {\n",
    "    'የግንባታ መዘግየት  እና መጓተት / በጊዜው አይደርስም ብለው ማሰባቸው': 'Construction Delay',\n",
    "    'በ Dollar ክፍያው መሆኑ': 'Pricing methods',\n",
    "    'የግንባታ ጥራት  ችግር (ከዚህ በፊት አያት የ ሰራቸው ቤቶች ላይ  )': 'Construction Quality',\n",
    "    ' view  ማግኘት  አለመቻሉ': 'Preference',\n",
    "\n",
    " }"
   ]
  },
  {
   "cell_type": "markdown",
   "metadata": {},
   "source": [
    "### Original Raw Data"
   ]
  },
  {
   "cell_type": "code",
   "execution_count": 84,
   "metadata": {},
   "outputs": [
    {
     "data": {
      "text/html": [
       "<div>\n",
       "<style scoped>\n",
       "    .dataframe tbody tr th:only-of-type {\n",
       "        vertical-align: middle;\n",
       "    }\n",
       "\n",
       "    .dataframe tbody tr th {\n",
       "        vertical-align: top;\n",
       "    }\n",
       "\n",
       "    .dataframe thead th {\n",
       "        text-align: right;\n",
       "    }\n",
       "</style>\n",
       "<table border=\"1\" class=\"dataframe\">\n",
       "  <thead>\n",
       "    <tr style=\"text-align: right;\">\n",
       "      <th></th>\n",
       "      <th>Unnamed: 0</th>\n",
       "      <th>በሽያጭ_ሂደቱ_ያጋጠሙ_ችግሮች</th>\n",
       "      <th>Values</th>\n",
       "    </tr>\n",
       "  </thead>\n",
       "  <tbody>\n",
       "    <tr>\n",
       "      <th>0</th>\n",
       "      <td>0</td>\n",
       "      <td>የግንባታ መዘግየት  እና መጓተት / በጊዜው አይደርስም ብለው ማሰባቸው</td>\n",
       "      <td>282</td>\n",
       "    </tr>\n",
       "    <tr>\n",
       "      <th>1</th>\n",
       "      <td>1</td>\n",
       "      <td>በ Dollar ክፍያው መሆኑ</td>\n",
       "      <td>275</td>\n",
       "    </tr>\n",
       "    <tr>\n",
       "      <th>2</th>\n",
       "      <td>2</td>\n",
       "      <td>የግንባታ ጥራት  ችግር (ከዚህ በፊት አያት የ ሰራቸው ቤቶች ላይ  )</td>\n",
       "      <td>110</td>\n",
       "    </tr>\n",
       "    <tr>\n",
       "      <th>3</th>\n",
       "      <td>3</td>\n",
       "      <td>view  ማግኘት  አለመቻሉ</td>\n",
       "      <td>102</td>\n",
       "    </tr>\n",
       "  </tbody>\n",
       "</table>\n",
       "</div>"
      ],
      "text/plain": [
       "   Unnamed: 0                            በሽያጭ_ሂደቱ_ያጋጠሙ_ችግሮች  Values\n",
       "0           0  የግንባታ መዘግየት  እና መጓተት / በጊዜው አይደርስም ብለው ማሰባቸው     282\n",
       "1           1                             በ Dollar ክፍያው መሆኑ     275\n",
       "2           2  የግንባታ ጥራት  ችግር (ከዚህ በፊት አያት የ ሰራቸው ቤቶች ላይ  )     110\n",
       "3           3                             view  ማግኘት  አለመቻሉ     102"
      ]
     },
     "execution_count": 84,
     "metadata": {},
     "output_type": "execute_result"
    }
   ],
   "source": [
    "data1 = pd.read_csv(\"MeasureTakentoSolveProblems.csv\", encoding='utf-8')\n",
    "data1.head(4)"
   ]
  },
  {
   "cell_type": "code",
   "execution_count": null,
   "metadata": {},
   "outputs": [],
   "source": []
  },
  {
   "cell_type": "markdown",
   "metadata": {},
   "source": [
    "#### Mapped Data"
   ]
  },
  {
   "cell_type": "code",
   "execution_count": 85,
   "metadata": {},
   "outputs": [
    {
     "data": {
      "text/html": [
       "<div>\n",
       "<style scoped>\n",
       "    .dataframe tbody tr th:only-of-type {\n",
       "        vertical-align: middle;\n",
       "    }\n",
       "\n",
       "    .dataframe tbody tr th {\n",
       "        vertical-align: top;\n",
       "    }\n",
       "\n",
       "    .dataframe thead th {\n",
       "        text-align: right;\n",
       "    }\n",
       "</style>\n",
       "<table border=\"1\" class=\"dataframe\">\n",
       "  <thead>\n",
       "    <tr style=\"text-align: right;\">\n",
       "      <th></th>\n",
       "      <th>Unnamed: 0</th>\n",
       "      <th>በሽያጭ_ሂደቱ_ያጋጠሙ_ችግሮች</th>\n",
       "      <th>Values</th>\n",
       "    </tr>\n",
       "  </thead>\n",
       "  <tbody>\n",
       "    <tr>\n",
       "      <th>0</th>\n",
       "      <td>0</td>\n",
       "      <td>Construction Delay</td>\n",
       "      <td>282</td>\n",
       "    </tr>\n",
       "    <tr>\n",
       "      <th>1</th>\n",
       "      <td>1</td>\n",
       "      <td>Pricing methods</td>\n",
       "      <td>275</td>\n",
       "    </tr>\n",
       "    <tr>\n",
       "      <th>2</th>\n",
       "      <td>2</td>\n",
       "      <td>Construction Quality</td>\n",
       "      <td>110</td>\n",
       "    </tr>\n",
       "    <tr>\n",
       "      <th>3</th>\n",
       "      <td>3</td>\n",
       "      <td>Preference</td>\n",
       "      <td>102</td>\n",
       "    </tr>\n",
       "  </tbody>\n",
       "</table>\n",
       "</div>"
      ],
      "text/plain": [
       "   Unnamed: 0    በሽያጭ_ሂደቱ_ያጋጠሙ_ችግሮች  Values\n",
       "0           0    Construction Delay     282\n",
       "1           1       Pricing methods     275\n",
       "2           2  Construction Quality     110\n",
       "3           3            Preference     102"
      ]
     },
     "execution_count": 85,
     "metadata": {},
     "output_type": "execute_result"
    }
   ],
   "source": [
    "#data1.replace({\"በሽያጭ_ሂደቱ_ያጋጠሙ_ችግሮች\": mapDict2})\n",
    "data1[\"በሽያጭ_ሂደቱ_ያጋጠሙ_ችግሮች\"].replace(mapDict2, inplace=True)\n",
    "data1.head(4)"
   ]
  },
  {
   "cell_type": "markdown",
   "metadata": {},
   "source": [
    "#### Mapping in pandas"
   ]
  },
  {
   "cell_type": "code",
   "execution_count": 86,
   "metadata": {},
   "outputs": [
    {
     "data": {
      "text/html": [
       "<div>\n",
       "<style scoped>\n",
       "    .dataframe tbody tr th:only-of-type {\n",
       "        vertical-align: middle;\n",
       "    }\n",
       "\n",
       "    .dataframe tbody tr th {\n",
       "        vertical-align: top;\n",
       "    }\n",
       "\n",
       "    .dataframe thead th {\n",
       "        text-align: right;\n",
       "    }\n",
       "</style>\n",
       "<table border=\"1\" class=\"dataframe\">\n",
       "  <thead>\n",
       "    <tr style=\"text-align: right;\">\n",
       "      <th></th>\n",
       "      <th>0</th>\n",
       "      <th>1</th>\n",
       "      <th>2</th>\n",
       "      <th>3</th>\n",
       "      <th>4</th>\n",
       "    </tr>\n",
       "  </thead>\n",
       "  <tbody>\n",
       "    <tr>\n",
       "      <th>0</th>\n",
       "      <td>a</td>\n",
       "      <td>c</td>\n",
       "      <td>b</td>\n",
       "      <td>a</td>\n",
       "      <td>f</td>\n",
       "    </tr>\n",
       "    <tr>\n",
       "      <th>1</th>\n",
       "      <td>d</td>\n",
       "      <td>a</td>\n",
       "      <td>c</td>\n",
       "      <td>c</td>\n",
       "      <td>b</td>\n",
       "    </tr>\n",
       "    <tr>\n",
       "      <th>2</th>\n",
       "      <td>a</td>\n",
       "      <td>e</td>\n",
       "      <td>a</td>\n",
       "      <td>c</td>\n",
       "      <td>f</td>\n",
       "    </tr>\n",
       "    <tr>\n",
       "      <th>3</th>\n",
       "      <td>f</td>\n",
       "      <td>e</td>\n",
       "      <td>b</td>\n",
       "      <td>c</td>\n",
       "      <td>b</td>\n",
       "    </tr>\n",
       "    <tr>\n",
       "      <th>4</th>\n",
       "      <td>c</td>\n",
       "      <td>c</td>\n",
       "      <td>c</td>\n",
       "      <td>b</td>\n",
       "      <td>b</td>\n",
       "    </tr>\n",
       "  </tbody>\n",
       "</table>\n",
       "</div>"
      ],
      "text/plain": [
       "   0  1  2  3  4\n",
       "0  a  c  b  a  f\n",
       "1  d  a  c  c  b\n",
       "2  a  e  a  c  f\n",
       "3  f  e  b  c  b\n",
       "4  c  c  c  b  b"
      ]
     },
     "execution_count": 86,
     "metadata": {},
     "output_type": "execute_result"
    }
   ],
   "source": [
    "A = pd.DataFrame(np.random.choice(list(\"abcdef\"), (5, 5)))\n",
    "A"
   ]
  },
  {
   "cell_type": "code",
   "execution_count": 87,
   "metadata": {},
   "outputs": [
    {
     "data": {
      "text/html": [
       "<div>\n",
       "<style scoped>\n",
       "    .dataframe tbody tr th:only-of-type {\n",
       "        vertical-align: middle;\n",
       "    }\n",
       "\n",
       "    .dataframe tbody tr th {\n",
       "        vertical-align: top;\n",
       "    }\n",
       "\n",
       "    .dataframe thead th {\n",
       "        text-align: right;\n",
       "    }\n",
       "</style>\n",
       "<table border=\"1\" class=\"dataframe\">\n",
       "  <thead>\n",
       "    <tr style=\"text-align: right;\">\n",
       "      <th></th>\n",
       "      <th>0</th>\n",
       "      <th>1</th>\n",
       "      <th>2</th>\n",
       "      <th>3</th>\n",
       "      <th>4</th>\n",
       "    </tr>\n",
       "  </thead>\n",
       "  <tbody>\n",
       "    <tr>\n",
       "      <th>0</th>\n",
       "      <td>a</td>\n",
       "      <td>c</td>\n",
       "      <td>b,b,b</td>\n",
       "      <td>a</td>\n",
       "      <td>f</td>\n",
       "    </tr>\n",
       "    <tr>\n",
       "      <th>1</th>\n",
       "      <td>d</td>\n",
       "      <td>a</td>\n",
       "      <td>c</td>\n",
       "      <td>c</td>\n",
       "      <td>b,b,b</td>\n",
       "    </tr>\n",
       "    <tr>\n",
       "      <th>2</th>\n",
       "      <td>a</td>\n",
       "      <td>e</td>\n",
       "      <td>a</td>\n",
       "      <td>c</td>\n",
       "      <td>f</td>\n",
       "    </tr>\n",
       "    <tr>\n",
       "      <th>3</th>\n",
       "      <td>f</td>\n",
       "      <td>e</td>\n",
       "      <td>b,b,b</td>\n",
       "      <td>c</td>\n",
       "      <td>b,b,b</td>\n",
       "    </tr>\n",
       "    <tr>\n",
       "      <th>4</th>\n",
       "      <td>c</td>\n",
       "      <td>c</td>\n",
       "      <td>c</td>\n",
       "      <td>b,b,b</td>\n",
       "      <td>b,b,b</td>\n",
       "    </tr>\n",
       "  </tbody>\n",
       "</table>\n",
       "</div>"
      ],
      "text/plain": [
       "   0  1      2      3      4\n",
       "0  a  c  b,b,b      a      f\n",
       "1  d  a      c      c  b,b,b\n",
       "2  a  e      a      c      f\n",
       "3  f  e  b,b,b      c  b,b,b\n",
       "4  c  c      c  b,b,b  b,b,b"
      ]
     },
     "execution_count": 87,
     "metadata": {},
     "output_type": "execute_result"
    }
   ],
   "source": [
    "#A['column name'] = df['column name'].replace(['old value'],'new value')\n",
    "q = 'b,b,b'\n",
    "A = A.replace(['b'],q)\n",
    "A"
   ]
  },
  {
   "cell_type": "code",
   "execution_count": 88,
   "metadata": {},
   "outputs": [],
   "source": [
    "B = pd.DataFrame({'Code': ['a', 'b', 'c', 'd', 'e'],\n",
    "                  'Value': [\"House\", \"Bike\", \"Lamp\", \"Window\", \"Car\"]})\n",
    "B = B.set_index(\"Code\")[\"Value\"]"
   ]
  },
  {
   "cell_type": "code",
   "execution_count": 89,
   "metadata": {},
   "outputs": [],
   "source": [
    "C = pd.DataFrame()\n",
    "for col in A:\n",
    "    C[col] = A[col].map(B).fillna(A[col])"
   ]
  },
  {
   "cell_type": "code",
   "execution_count": 90,
   "metadata": {},
   "outputs": [
    {
     "data": {
      "text/html": [
       "<div>\n",
       "<style scoped>\n",
       "    .dataframe tbody tr th:only-of-type {\n",
       "        vertical-align: middle;\n",
       "    }\n",
       "\n",
       "    .dataframe tbody tr th {\n",
       "        vertical-align: top;\n",
       "    }\n",
       "\n",
       "    .dataframe thead th {\n",
       "        text-align: right;\n",
       "    }\n",
       "</style>\n",
       "<table border=\"1\" class=\"dataframe\">\n",
       "  <thead>\n",
       "    <tr style=\"text-align: right;\">\n",
       "      <th></th>\n",
       "      <th>0</th>\n",
       "      <th>1</th>\n",
       "      <th>2</th>\n",
       "      <th>3</th>\n",
       "      <th>4</th>\n",
       "    </tr>\n",
       "  </thead>\n",
       "  <tbody>\n",
       "    <tr>\n",
       "      <th>0</th>\n",
       "      <td>House</td>\n",
       "      <td>Lamp</td>\n",
       "      <td>b,b,b</td>\n",
       "      <td>House</td>\n",
       "      <td>f</td>\n",
       "    </tr>\n",
       "    <tr>\n",
       "      <th>1</th>\n",
       "      <td>Window</td>\n",
       "      <td>House</td>\n",
       "      <td>Lamp</td>\n",
       "      <td>Lamp</td>\n",
       "      <td>b,b,b</td>\n",
       "    </tr>\n",
       "    <tr>\n",
       "      <th>2</th>\n",
       "      <td>House</td>\n",
       "      <td>Car</td>\n",
       "      <td>House</td>\n",
       "      <td>Lamp</td>\n",
       "      <td>f</td>\n",
       "    </tr>\n",
       "    <tr>\n",
       "      <th>3</th>\n",
       "      <td>f</td>\n",
       "      <td>Car</td>\n",
       "      <td>b,b,b</td>\n",
       "      <td>Lamp</td>\n",
       "      <td>b,b,b</td>\n",
       "    </tr>\n",
       "    <tr>\n",
       "      <th>4</th>\n",
       "      <td>Lamp</td>\n",
       "      <td>Lamp</td>\n",
       "      <td>Lamp</td>\n",
       "      <td>b,b,b</td>\n",
       "      <td>b,b,b</td>\n",
       "    </tr>\n",
       "  </tbody>\n",
       "</table>\n",
       "</div>"
      ],
      "text/plain": [
       "        0      1      2      3      4\n",
       "0   House   Lamp  b,b,b  House      f\n",
       "1  Window  House   Lamp   Lamp  b,b,b\n",
       "2   House    Car  House   Lamp      f\n",
       "3       f    Car  b,b,b   Lamp  b,b,b\n",
       "4    Lamp   Lamp   Lamp  b,b,b  b,b,b"
      ]
     },
     "execution_count": 90,
     "metadata": {},
     "output_type": "execute_result"
    }
   ],
   "source": [
    "C"
   ]
  },
  {
   "cell_type": "code",
   "execution_count": 91,
   "metadata": {},
   "outputs": [
    {
     "data": {
      "text/html": [
       "<div>\n",
       "<style scoped>\n",
       "    .dataframe tbody tr th:only-of-type {\n",
       "        vertical-align: middle;\n",
       "    }\n",
       "\n",
       "    .dataframe tbody tr th {\n",
       "        vertical-align: top;\n",
       "    }\n",
       "\n",
       "    .dataframe thead th {\n",
       "        text-align: right;\n",
       "    }\n",
       "</style>\n",
       "<table border=\"1\" class=\"dataframe\">\n",
       "  <thead>\n",
       "    <tr style=\"text-align: right;\">\n",
       "      <th></th>\n",
       "      <th>requiredVIZ</th>\n",
       "      <th>Values</th>\n",
       "    </tr>\n",
       "  </thead>\n",
       "  <tbody>\n",
       "    <tr>\n",
       "      <th>0</th>\n",
       "      <td>House</td>\n",
       "      <td>2</td>\n",
       "    </tr>\n",
       "    <tr>\n",
       "      <th>1</th>\n",
       "      <td>Window</td>\n",
       "      <td>1</td>\n",
       "    </tr>\n",
       "    <tr>\n",
       "      <th>2</th>\n",
       "      <td>f</td>\n",
       "      <td>1</td>\n",
       "    </tr>\n",
       "    <tr>\n",
       "      <th>3</th>\n",
       "      <td>Lamp</td>\n",
       "      <td>1</td>\n",
       "    </tr>\n",
       "  </tbody>\n",
       "</table>\n",
       "</div>"
      ],
      "text/plain": [
       "  requiredVIZ  Values\n",
       "0       House       2\n",
       "1      Window       1\n",
       "2           f       1\n",
       "3        Lamp       1"
      ]
     },
     "execution_count": 91,
     "metadata": {},
     "output_type": "execute_result"
    }
   ],
   "source": [
    "viz_count = C[0].value_counts()\n",
    "viz_count = pd.DataFrame({'requiredVIZ': viz_count.index,\n",
    "                                  'Values': viz_count.values})\n",
    "viz_count"
   ]
  },
  {
   "cell_type": "code",
   "execution_count": 92,
   "metadata": {},
   "outputs": [
    {
     "data": {
      "text/plain": [
       "<matplotlib.axes._subplots.AxesSubplot at 0x117236048>"
      ]
     },
     "execution_count": 92,
     "metadata": {},
     "output_type": "execute_result"
    },
    {
     "data": {
      "image/png": "[encoded data removed]",
      "text/plain": [
       "<Figure size 432x288 with 1 Axes>"
      ]
     },
     "metadata": {},
     "output_type": "display_data"
    }
   ],
   "source": [
    "viz_count.groupby(['requiredVIZ']).sum().plot(kind='pie', y='Values')"
   ]
  },
  {
   "cell_type": "code",
   "execution_count": 93,
   "metadata": {},
   "outputs": [],
   "source": [
    "#ax = sns.countplot(y=\"requiredVIZ\", hue=\"Values\",data=viz_count)\n",
    "xData = C.groupby(0).sum()"
   ]
  },
  {
   "cell_type": "code",
   "execution_count": null,
   "metadata": {},
   "outputs": [],
   "source": []
  },
  {
   "cell_type": "code",
   "execution_count": null,
   "metadata": {},
   "outputs": [],
   "source": []
  },
  {
   "cell_type": "markdown",
   "metadata": {},
   "source": [
    "####  Pre-processing"
   ]
  },
  {
   "cell_type": "code",
   "execution_count": 94,
   "metadata": {},
   "outputs": [],
   "source": [
    "data = pd.read_csv(\"AmanMiko.csv\", encoding='utf-8')\n",
    "#data = pd.read_csv(\"AmanMikoTest1.csv\", encoding='utf-8')"
   ]
  },
  {
   "cell_type": "code",
   "execution_count": 95,
   "metadata": {},
   "outputs": [
    {
     "data": {
      "text/plain": [
       "(619, 34)"
      ]
     },
     "execution_count": 95,
     "metadata": {},
     "output_type": "execute_result"
    }
   ],
   "source": [
    "data.shape"
   ]
  },
  {
   "cell_type": "code",
   "execution_count": 96,
   "metadata": {},
   "outputs": [
    {
     "data": {
      "text/plain": [
       "430"
      ]
     },
     "execution_count": 96,
     "metadata": {},
     "output_type": "execute_result"
    }
   ],
   "source": [
    "rslt_df = data[data['Duration']  > 0]\n",
    "#rslt_df['Duration']\n",
    "len(rslt_df)"
   ]
  },
  {
   "cell_type": "markdown",
   "metadata": {},
   "source": [
    "#### Average time duration for buying among who filled properly "
   ]
  },
  {
   "cell_type": "code",
   "execution_count": 97,
   "metadata": {},
   "outputs": [
    {
     "data": {
      "text/plain": [
       "Duration    59.767442\n",
       "dtype: float64"
      ]
     },
     "execution_count": 97,
     "metadata": {},
     "output_type": "execute_result"
    }
   ],
   "source": [
    "rslt_df[['Duration']].mean()"
   ]
  },
  {
   "cell_type": "markdown",
   "metadata": {},
   "source": [
    "### Extracting Unquie value of the columns value"
   ]
  },
  {
   "cell_type": "code",
   "execution_count": 98,
   "metadata": {},
   "outputs": [],
   "source": [
    "data.በሽያጭ_ሂደቱ_ያጋጠሙ_ችግሮች = data.በሽያጭ_ሂደቱ_ያጋጠሙ_ችግሮች.str.strip()"
   ]
  },
  {
   "cell_type": "code",
   "execution_count": 99,
   "metadata": {},
   "outputs": [
    {
     "data": {
      "text/html": [
       "<div>\n",
       "<style scoped>\n",
       "    .dataframe tbody tr th:only-of-type {\n",
       "        vertical-align: middle;\n",
       "    }\n",
       "\n",
       "    .dataframe tbody tr th {\n",
       "        vertical-align: top;\n",
       "    }\n",
       "\n",
       "    .dataframe thead th {\n",
       "        text-align: right;\n",
       "    }\n",
       "</style>\n",
       "<table border=\"1\" class=\"dataframe\">\n",
       "  <thead>\n",
       "    <tr style=\"text-align: right;\">\n",
       "      <th></th>\n",
       "      <th>በሽያጭ_ሂደቱ_ያጋጠሙ_ችግሮች</th>\n",
       "    </tr>\n",
       "  </thead>\n",
       "  <tbody>\n",
       "    <tr>\n",
       "      <th>0</th>\n",
       "      <td>7% ማስታወቂያ ውል ይፈረማል ብሎ ማሰቡ</td>\n",
       "    </tr>\n",
       "    <tr>\n",
       "      <th>1</th>\n",
       "      <td>ቅድመ ክፍያውን  በአንድ ጊዜ መክፈል  አለመቻል;ለመወሰን ረጅም ጊዜ መውሰድ</td>\n",
       "    </tr>\n",
       "  </tbody>\n",
       "</table>\n",
       "</div>"
      ],
      "text/plain": [
       "                                 በሽያጭ_ሂደቱ_ያጋጠሙ_ችግሮች\n",
       "0                         7% ማስታወቂያ ውል ይፈረማል ብሎ ማሰቡ\n",
       "1  ቅድመ ክፍያውን  በአንድ ጊዜ መክፈል  አለመቻል;ለመወሰን ረጅም ጊዜ መውሰድ"
      ]
     },
     "execution_count": 99,
     "metadata": {},
     "output_type": "execute_result"
    }
   ],
   "source": [
    "test = pd.DataFrame(data[\"በሽያጭ_ሂደቱ_ያጋጠሙ_ችግሮች\"])\n",
    "test.head(2)"
   ]
  },
  {
   "cell_type": "code",
   "execution_count": 100,
   "metadata": {},
   "outputs": [],
   "source": [
    "test[\"በሽያጭ_ሂደቱ_ያጋጠሙ_ችግሮች\"] = test[\"በሽያጭ_ሂደቱ_ያጋጠሙ_ችግሮች\"].str.replace(';',',')\n",
    "test[\"በሽያጭ_ሂደቱ_ያጋጠሙ_ችግሮች\"] = test[\"በሽያጭ_ሂደቱ_ያጋጠሙ_ችግሮች\"].str.replace('/',',')"
   ]
  },
  {
   "cell_type": "code",
   "execution_count": 101,
   "metadata": {},
   "outputs": [
    {
     "data": {
      "text/html": [
       "<div>\n",
       "<style scoped>\n",
       "    .dataframe tbody tr th:only-of-type {\n",
       "        vertical-align: middle;\n",
       "    }\n",
       "\n",
       "    .dataframe tbody tr th {\n",
       "        vertical-align: top;\n",
       "    }\n",
       "\n",
       "    .dataframe thead th {\n",
       "        text-align: right;\n",
       "    }\n",
       "</style>\n",
       "<table border=\"1\" class=\"dataframe\">\n",
       "  <thead>\n",
       "    <tr style=\"text-align: right;\">\n",
       "      <th></th>\n",
       "      <th>በሽያጭ_ሂደቱ_ያጋጠሙ_ችግሮች</th>\n",
       "    </tr>\n",
       "  </thead>\n",
       "  <tbody>\n",
       "    <tr>\n",
       "      <th>0</th>\n",
       "      <td>7% ማስታወቂያ ውል ይፈረማል ብሎ ማሰቡ</td>\n",
       "    </tr>\n",
       "    <tr>\n",
       "      <th>1</th>\n",
       "      <td>ቅድመ ክፍያውን  በአንድ ጊዜ መክፈል  አለመቻል,ለመወሰን ረጅም ጊዜ መውሰድ</td>\n",
       "    </tr>\n",
       "    <tr>\n",
       "      <th>2</th>\n",
       "      <td>የዋጋ መቀያየር,sample ቤት  አለመኖሩ</td>\n",
       "    </tr>\n",
       "    <tr>\n",
       "      <th>3</th>\n",
       "      <td>የግንባታ መዘግየት  እና መጓተት , በጊዜው አይደርስም ብለው ማሰባቸው</td>\n",
       "    </tr>\n",
       "    <tr>\n",
       "      <th>4</th>\n",
       "      <td>የዋጋ መቀያየር,የግንባታ መዘግየት  እና መጓተት , በጊዜው አይደርስም ብ...</td>\n",
       "    </tr>\n",
       "    <tr>\n",
       "      <th>5</th>\n",
       "      <td>በ Dollar ክፍያው መሆኑ,የግንባታ መዘግየት  እና መጓተት , በጊዜው ...</td>\n",
       "    </tr>\n",
       "    <tr>\n",
       "      <th>8</th>\n",
       "      <td>የለም</td>\n",
       "    </tr>\n",
       "    <tr>\n",
       "      <th>9</th>\n",
       "      <td>የለም</td>\n",
       "    </tr>\n",
       "    <tr>\n",
       "      <th>10</th>\n",
       "      <td>የለም</td>\n",
       "    </tr>\n",
       "    <tr>\n",
       "      <th>11</th>\n",
       "      <td>የለም</td>\n",
       "    </tr>\n",
       "  </tbody>\n",
       "</table>\n",
       "</div>"
      ],
      "text/plain": [
       "                                   በሽያጭ_ሂደቱ_ያጋጠሙ_ችግሮች\n",
       "0                           7% ማስታወቂያ ውል ይፈረማል ብሎ ማሰቡ\n",
       "1    ቅድመ ክፍያውን  በአንድ ጊዜ መክፈል  አለመቻል,ለመወሰን ረጅም ጊዜ መውሰድ\n",
       "2                          የዋጋ መቀያየር,sample ቤት  አለመኖሩ\n",
       "3        የግንባታ መዘግየት  እና መጓተት , በጊዜው አይደርስም ብለው ማሰባቸው\n",
       "4   የዋጋ መቀያየር,የግንባታ መዘግየት  እና መጓተት , በጊዜው አይደርስም ብ...\n",
       "5   በ Dollar ክፍያው መሆኑ,የግንባታ መዘግየት  እና መጓተት , በጊዜው ...\n",
       "8                                                 የለም\n",
       "9                                                 የለም\n",
       "10                                                የለም\n",
       "11                                                የለም"
      ]
     },
     "execution_count": 101,
     "metadata": {},
     "output_type": "execute_result"
    }
   ],
   "source": [
    "test.iloc[1,0]\n",
    "test = test.dropna()\n",
    "test.head(10)"
   ]
  },
  {
   "cell_type": "code",
   "execution_count": 105,
   "metadata": {},
   "outputs": [
    {
     "name": "stdout",
     "output_type": "stream",
     "text": [
      "7% ማስታወቂያ ውል ይፈረማል ብሎ ማሰቡ\n"
     ]
    }
   ],
   "source": [
    "kk =test.iloc[i,0].split(\",\")\n",
    "for k in range(0, len(kk)):\n",
    "    print(kk[k])"
   ]
  },
  {
   "cell_type": "code",
   "execution_count": 106,
   "metadata": {},
   "outputs": [
    {
     "data": {
      "text/plain": [
       "344"
      ]
     },
     "execution_count": 106,
     "metadata": {},
     "output_type": "execute_result"
    }
   ],
   "source": [
    "UL = []\n",
    "for i in range(0, len(test)):\n",
    "    if \",\" in test.iloc[i,0]: \n",
    "        kk =test.iloc[i,0].split(\",\")\n",
    "        for k in range(0, len(kk)):\n",
    "            UL.append(kk[k])\n",
    "    else:\n",
    "         UL.append(kk[k])\n",
    "setUL = set(UL)\n",
    "len(setUL)"
   ]
  },
  {
   "cell_type": "code",
   "execution_count": null,
   "metadata": {},
   "outputs": [],
   "source": []
  },
  {
   "cell_type": "code",
   "execution_count": 107,
   "metadata": {},
   "outputs": [
    {
     "data": {
      "text/plain": [
       "619"
      ]
     },
     "execution_count": 107,
     "metadata": {},
     "output_type": "execute_result"
    }
   ],
   "source": [
    "len(data['በሽያጭ_ሂደቱ_ያጋጠሙ_ችግሮች'])"
   ]
  },
  {
   "cell_type": "markdown",
   "metadata": {},
   "source": [
    "###  Efficiently split Pandas Dataframe cells containing lists into multiple rows, duplicating the other column's values."
   ]
  },
  {
   "cell_type": "code",
   "execution_count": 109,
   "metadata": {},
   "outputs": [],
   "source": [
    "def splitDataFrameList(df,target_column,separator):\n",
    "    ''' df = dataframe to split,\n",
    "    target_column = the column containing the values to split\n",
    "    separator = the symbol used to perform the split\n",
    "    returns: a dataframe with each entry for the target column separated, with each element moved into a new row. \n",
    "    The values in the other columns are duplicated across the newly divided rows.\n",
    "    '''\n",
    "    row_accumulator = []\n",
    "\n",
    "    def splitListToRows(row, separator):\n",
    "        split_row = row[target_column].split(separator)\n",
    "        for s in split_row:\n",
    "            new_row = row.to_dict()\n",
    "            new_row[target_column] = s\n",
    "            row_accumulator.append(new_row)\n",
    "\n",
    "    df.apply(splitListToRows, axis=1, args = (separator, ))\n",
    "    new_df = pd.DataFrame(row_accumulator)\n",
    "    return new_df"
   ]
  },
  {
   "cell_type": "code",
   "execution_count": 110,
   "metadata": {},
   "outputs": [
    {
     "data": {
      "text/plain": [
       "(619, 34)"
      ]
     },
     "execution_count": 110,
     "metadata": {},
     "output_type": "execute_result"
    }
   ],
   "source": [
    "data.shape"
   ]
  },
  {
   "cell_type": "code",
   "execution_count": 111,
   "metadata": {},
   "outputs": [
    {
     "data": {
      "text/plain": [
       "Index(['Timestamp', 'Username', 'ReferenceNumber', 'የሽያጭ_ሰራተኛው_ሙሉስም ',\n",
       "       'የሽያጭ_ሰራተኛው_ስልክ', 'የሽያጭ_ሰራተኛው_ፈርሟል', 'ያረጋገጠው_ሱፐርቫይዘር_ስም ',\n",
       "       'ያረጋገጠው_ሱፐርቫይዘር_ፈርሟል', 'የሽያጭ_ስራ_አስኪያጅስም', 'የሽያጭ_ስራ_አስኪያጅ ፈርሟል',\n",
       "       'የደንበኛው_ሙሉ_ስም ', 'ጾታ', 'እድሜ', 'የትዳር_ሁኔታ', 'አድራሻ', 'ስራ_ቢዝነስ',\n",
       "       'የደንበኛው_የገቢ_ምንጭ', 'ቤቱን_የገዙበት_አላማ', 'በሽያጭ_ሂደቱ_ያጋጠሙ_ችግሮች',\n",
       "       'ችግሮቹን_የፈቱበት_መንገዶች', 'የግዝ_ውሳኔው_ላይ_ተጽኖ_የፈጠሩ_ሰዎች', 'የግዝ_ውሳኒውን_ያሳኩ_ምክንያቶች',\n",
       "       'አያትን_የመረጡበት_ምክንያት', 'ሌሎች_ሽያጭ_ሂደቱ_የረዱ_ጉዳዮች', 'ደንበኛው_የተገኘበት_አግባብ',\n",
       "       'የተሸጠው_ቤት_ስፋት', 'ፊኒሺንግ', 'የውል_ቁጥር', 'የቤት_ቁጥር ', 'የመጀመሪያ_ክፍያ_መጠን',\n",
       "       'ደንበኛው_የተገኘበት_ቀን ', 'ሽያጩ_የተከናወነበት_ቀን ', 'Duration', 'የደንበኛው_ስልክ_ቁጥር'],\n",
       "      dtype='object')"
      ]
     },
     "execution_count": 111,
     "metadata": {},
     "output_type": "execute_result"
    }
   ],
   "source": [
    "data.columns"
   ]
  },
  {
   "cell_type": "code",
   "execution_count": 112,
   "metadata": {},
   "outputs": [],
   "source": [
    "new = data[[\n",
    "            'ReferenceNumber',\n",
    "            'በሽያጭ_ሂደቱ_ያጋጠሙ_ችግሮች', \n",
    "            ]].copy()"
   ]
  },
  {
   "cell_type": "code",
   "execution_count": 113,
   "metadata": {},
   "outputs": [
    {
     "data": {
      "text/plain": [
       "(619, 2)"
      ]
     },
     "execution_count": 113,
     "metadata": {},
     "output_type": "execute_result"
    }
   ],
   "source": [
    "#new = new.dropna()\n",
    "new = new.astype(str)\n",
    "new.shape"
   ]
  },
  {
   "cell_type": "code",
   "execution_count": 114,
   "metadata": {},
   "outputs": [
    {
     "data": {
      "text/plain": [
       "(619, 2)"
      ]
     },
     "execution_count": 114,
     "metadata": {},
     "output_type": "execute_result"
    }
   ],
   "source": [
    "new = new.dropna()\n",
    "new.shape"
   ]
  },
  {
   "cell_type": "markdown",
   "metadata": {},
   "source": [
    "### Exectuting and processing to expand the rows based on , or ; or /"
   ]
  },
  {
   "cell_type": "code",
   "execution_count": 115,
   "metadata": {},
   "outputs": [],
   "source": [
    "cols = new.columns\n",
    "separatorList = [',', ';', '/']\n",
    "for col in range(0, len(cols)):\n",
    "    #print(cols[col])\n",
    "    for s in range(0, len(separatorList)):\n",
    "        new = splitDataFrameList(new,cols[col],separatorList[s])"
   ]
  },
  {
   "cell_type": "code",
   "execution_count": null,
   "metadata": {},
   "outputs": [],
   "source": []
  },
  {
   "cell_type": "code",
   "execution_count": 116,
   "metadata": {},
   "outputs": [
    {
     "data": {
      "text/plain": [
       "dtype('O')"
      ]
     },
     "execution_count": 116,
     "metadata": {},
     "output_type": "execute_result"
    }
   ],
   "source": [
    "viz_count = new['በሽያጭ_ሂደቱ_ያጋጠሙ_ችግሮች'].value_counts()\n",
    "viz_count = pd.DataFrame({'በሽያጭ_ሂደቱ_ያጋጠሙ_ችግሮች': viz_count.index,\n",
    "                                      'Values': viz_count.values})\n",
    "\n",
    "viz_count.head(5)\n",
    "viz_count['በሽያጭ_ሂደቱ_ያጋጠሙ_ችግሮች'].dtypes"
   ]
  },
  {
   "cell_type": "code",
   "execution_count": 117,
   "metadata": {
    "scrolled": true
   },
   "outputs": [
    {
     "data": {
      "text/html": [
       "<div>\n",
       "<style scoped>\n",
       "    .dataframe tbody tr th:only-of-type {\n",
       "        vertical-align: middle;\n",
       "    }\n",
       "\n",
       "    .dataframe tbody tr th {\n",
       "        vertical-align: top;\n",
       "    }\n",
       "\n",
       "    .dataframe thead th {\n",
       "        text-align: right;\n",
       "    }\n",
       "</style>\n",
       "<table border=\"1\" class=\"dataframe\">\n",
       "  <thead>\n",
       "    <tr style=\"text-align: right;\">\n",
       "      <th></th>\n",
       "      <th>በሽያጭ_ሂደቱ_ያጋጠሙ_ችግሮች</th>\n",
       "      <th>Values</th>\n",
       "    </tr>\n",
       "  </thead>\n",
       "  <tbody>\n",
       "    <tr>\n",
       "      <th>0</th>\n",
       "      <td>በጊዜው አይደርስም ብለው ማሰባቸው</td>\n",
       "      <td>282</td>\n",
       "    </tr>\n",
       "    <tr>\n",
       "      <th>1</th>\n",
       "      <td>የግንባታ መዘግየት  እና መጓተት</td>\n",
       "      <td>282</td>\n",
       "    </tr>\n",
       "    <tr>\n",
       "      <th>2</th>\n",
       "      <td>በ Dollar ክፍያው መሆኑ</td>\n",
       "      <td>275</td>\n",
       "    </tr>\n",
       "    <tr>\n",
       "      <th>3</th>\n",
       "      <td>የግንባታ ጥራት  ችግር (ከዚህ በፊት አያት የ ሰራቸው ቤቶች ላይ  )</td>\n",
       "      <td>110</td>\n",
       "    </tr>\n",
       "    <tr>\n",
       "      <th>4</th>\n",
       "      <td>view  ማግኘት  አለመቻሉ</td>\n",
       "      <td>102</td>\n",
       "    </tr>\n",
       "    <tr>\n",
       "      <th>5</th>\n",
       "      <td>ደንበኛው የሚፍልገው  Size  ፣ Floor</td>\n",
       "      <td>102</td>\n",
       "    </tr>\n",
       "    <tr>\n",
       "      <th>6</th>\n",
       "      <td>sample ቤት  አለመኖሩ</td>\n",
       "      <td>87</td>\n",
       "    </tr>\n",
       "    <tr>\n",
       "      <th>7</th>\n",
       "      <td>የዋጋ መቀያየር</td>\n",
       "      <td>57</td>\n",
       "    </tr>\n",
       "    <tr>\n",
       "      <th>8</th>\n",
       "      <td>ቶሎ መግባት መፈለጋቸው</td>\n",
       "      <td>50</td>\n",
       "    </tr>\n",
       "    <tr>\n",
       "      <th>9</th>\n",
       "      <td>የመረከቢያ ጊዜ መርዘሙ</td>\n",
       "      <td>50</td>\n",
       "    </tr>\n",
       "  </tbody>\n",
       "</table>\n",
       "</div>"
      ],
      "text/plain": [
       "                             በሽያጭ_ሂደቱ_ያጋጠሙ_ችግሮች  Values\n",
       "0                         በጊዜው አይደርስም ብለው ማሰባቸው     282\n",
       "1                         የግንባታ መዘግየት  እና መጓተት      282\n",
       "2                             በ Dollar ክፍያው መሆኑ     275\n",
       "3  የግንባታ ጥራት  ችግር (ከዚህ በፊት አያት የ ሰራቸው ቤቶች ላይ  )     110\n",
       "4                             view  ማግኘት  አለመቻሉ     102\n",
       "5                  ደንበኛው የሚፍልገው  Size  ፣ Floor      102\n",
       "6                              sample ቤት  አለመኖሩ      87\n",
       "7                                     የዋጋ መቀያየር      57\n",
       "8                                ቶሎ መግባት መፈለጋቸው      50\n",
       "9                               የመረከቢያ ጊዜ መርዘሙ       50"
      ]
     },
     "execution_count": 117,
     "metadata": {},
     "output_type": "execute_result"
    }
   ],
   "source": [
    "viz_count.head(10)"
   ]
  },
  {
   "cell_type": "markdown",
   "metadata": {},
   "source": [
    "#### Mapping Data"
   ]
  },
  {
   "cell_type": "code",
   "execution_count": 118,
   "metadata": {},
   "outputs": [
    {
     "data": {
      "text/plain": [
       "(369, 3)"
      ]
     },
     "execution_count": 118,
     "metadata": {},
     "output_type": "execute_result"
    }
   ],
   "source": [
    "mapData = pd.read_csv(\"MeasureTakentoSolveProblems.csv\", encoding='utf-8')\n",
    "#mapData = mapData.set_index(\"በሽያጭ_ሂደቱ_ያጋጠሙ_ችግሮች\")[\"Parameters\"]\n",
    "mapData.shape"
   ]
  },
  {
   "cell_type": "code",
   "execution_count": 119,
   "metadata": {},
   "outputs": [
    {
     "data": {
      "text/html": [
       "<div>\n",
       "<style scoped>\n",
       "    .dataframe tbody tr th:only-of-type {\n",
       "        vertical-align: middle;\n",
       "    }\n",
       "\n",
       "    .dataframe tbody tr th {\n",
       "        vertical-align: top;\n",
       "    }\n",
       "\n",
       "    .dataframe thead th {\n",
       "        text-align: right;\n",
       "    }\n",
       "</style>\n",
       "<table border=\"1\" class=\"dataframe\">\n",
       "  <thead>\n",
       "    <tr style=\"text-align: right;\">\n",
       "      <th></th>\n",
       "      <th>Unnamed: 0</th>\n",
       "      <th>በሽያጭ_ሂደቱ_ያጋጠሙ_ችግሮች</th>\n",
       "      <th>Values</th>\n",
       "    </tr>\n",
       "  </thead>\n",
       "  <tbody>\n",
       "    <tr>\n",
       "      <th>0</th>\n",
       "      <td>0</td>\n",
       "      <td>የግንባታ መዘግየት  እና መጓተት / በጊዜው አይደርስም ብለው ማሰባቸው</td>\n",
       "      <td>282</td>\n",
       "    </tr>\n",
       "    <tr>\n",
       "      <th>1</th>\n",
       "      <td>1</td>\n",
       "      <td>በ Dollar ክፍያው መሆኑ</td>\n",
       "      <td>275</td>\n",
       "    </tr>\n",
       "  </tbody>\n",
       "</table>\n",
       "</div>"
      ],
      "text/plain": [
       "   Unnamed: 0                            በሽያጭ_ሂደቱ_ያጋጠሙ_ችግሮች  Values\n",
       "0           0  የግንባታ መዘግየት  እና መጓተት / በጊዜው አይደርስም ብለው ማሰባቸው     282\n",
       "1           1                             በ Dollar ክፍያው መሆኑ     275"
      ]
     },
     "execution_count": 119,
     "metadata": {},
     "output_type": "execute_result"
    }
   ],
   "source": [
    "mapData = mapData.squeeze()\n",
    "mapData.head(2)"
   ]
  },
  {
   "cell_type": "code",
   "execution_count": 122,
   "metadata": {},
   "outputs": [
    {
     "ename": "AttributeError",
     "evalue": "'DataFrame' object has no attribute 'Parameters'",
     "output_type": "error",
     "traceback": [
      "\u001b[0;31m---------------------------------------------------------------------------\u001b[0m",
      "\u001b[0;31mAttributeError\u001b[0m                            Traceback (most recent call last)",
      "\u001b[0;32m<ipython-input-122-f91e0c4f8c9a>\u001b[0m in \u001b[0;36m<module>\u001b[0;34m\u001b[0m\n\u001b[0;32m----> 1\u001b[0;31m \u001b[0mmdict\u001b[0m \u001b[0;34m=\u001b[0m \u001b[0mdict\u001b[0m\u001b[0;34m(\u001b[0m\u001b[0mzip\u001b[0m\u001b[0;34m(\u001b[0m\u001b[0mmapData\u001b[0m\u001b[0;34m.\u001b[0m\u001b[0mበሽያጭ_ሂደቱ_ያጋጠሙ_ችግሮች\u001b[0m\u001b[0;34m,\u001b[0m \u001b[0mmapData\u001b[0m\u001b[0;34m.\u001b[0m\u001b[0mParameters\u001b[0m\u001b[0;34m)\u001b[0m\u001b[0;34m)\u001b[0m\u001b[0;34m\u001b[0m\u001b[0;34m\u001b[0m\u001b[0m\n\u001b[0m\u001b[1;32m      2\u001b[0m \u001b[0mmdict\u001b[0m\u001b[0;34m\u001b[0m\u001b[0;34m\u001b[0m\u001b[0m\n",
      "\u001b[0;32m/miniconda3/lib/python3.7/site-packages/pandas/core/generic.py\u001b[0m in \u001b[0;36m__getattr__\u001b[0;34m(self, name)\u001b[0m\n\u001b[1;32m   5065\u001b[0m             \u001b[0;32mif\u001b[0m \u001b[0mself\u001b[0m\u001b[0;34m.\u001b[0m\u001b[0m_info_axis\u001b[0m\u001b[0;34m.\u001b[0m\u001b[0m_can_hold_identifiers_and_holds_name\u001b[0m\u001b[0;34m(\u001b[0m\u001b[0mname\u001b[0m\u001b[0;34m)\u001b[0m\u001b[0;34m:\u001b[0m\u001b[0;34m\u001b[0m\u001b[0;34m\u001b[0m\u001b[0m\n\u001b[1;32m   5066\u001b[0m                 \u001b[0;32mreturn\u001b[0m \u001b[0mself\u001b[0m\u001b[0;34m[\u001b[0m\u001b[0mname\u001b[0m\u001b[0;34m]\u001b[0m\u001b[0;34m\u001b[0m\u001b[0;34m\u001b[0m\u001b[0m\n\u001b[0;32m-> 5067\u001b[0;31m             \u001b[0;32mreturn\u001b[0m \u001b[0mobject\u001b[0m\u001b[0;34m.\u001b[0m\u001b[0m__getattribute__\u001b[0m\u001b[0;34m(\u001b[0m\u001b[0mself\u001b[0m\u001b[0;34m,\u001b[0m \u001b[0mname\u001b[0m\u001b[0;34m)\u001b[0m\u001b[0;34m\u001b[0m\u001b[0;34m\u001b[0m\u001b[0m\n\u001b[0m\u001b[1;32m   5068\u001b[0m \u001b[0;34m\u001b[0m\u001b[0m\n\u001b[1;32m   5069\u001b[0m     \u001b[0;32mdef\u001b[0m \u001b[0m__setattr__\u001b[0m\u001b[0;34m(\u001b[0m\u001b[0mself\u001b[0m\u001b[0;34m,\u001b[0m \u001b[0mname\u001b[0m\u001b[0;34m,\u001b[0m \u001b[0mvalue\u001b[0m\u001b[0;34m)\u001b[0m\u001b[0;34m:\u001b[0m\u001b[0;34m\u001b[0m\u001b[0;34m\u001b[0m\u001b[0m\n",
      "\u001b[0;31mAttributeError\u001b[0m: 'DataFrame' object has no attribute 'Parameters'"
     ]
    }
   ],
   "source": [
    "mdict = dict(zip(mapData.በሽያጭ_ሂደቱ_ያጋጠሙ_ችግሮች, mapData.Parameters))\n",
    "mdict"
   ]
  },
  {
   "cell_type": "code",
   "execution_count": 123,
   "metadata": {},
   "outputs": [
    {
     "ename": "NameError",
     "evalue": "name 'mdict' is not defined",
     "output_type": "error",
     "traceback": [
      "\u001b[0;31m---------------------------------------------------------------------------\u001b[0m",
      "\u001b[0;31mNameError\u001b[0m                                 Traceback (most recent call last)",
      "\u001b[0;32m<ipython-input-123-e5a848343319>\u001b[0m in \u001b[0;36m<module>\u001b[0;34m\u001b[0m\n\u001b[1;32m      1\u001b[0m \u001b[0;31m#data1.replace({\"በሽያጭ_ሂደቱ_ያጋጠሙ_ችግሮች\": mdict})\u001b[0m\u001b[0;34m\u001b[0m\u001b[0;34m\u001b[0m\u001b[0;34m\u001b[0m\u001b[0m\n\u001b[0;32m----> 2\u001b[0;31m \u001b[0mdata1\u001b[0m\u001b[0;34m[\u001b[0m\u001b[0;34m\"በሽያጭ_ሂደቱ_ያጋጠሙ_ችግሮች\"\u001b[0m\u001b[0;34m]\u001b[0m\u001b[0;34m.\u001b[0m\u001b[0mreplace\u001b[0m\u001b[0;34m(\u001b[0m\u001b[0mmdict\u001b[0m\u001b[0;34m,\u001b[0m \u001b[0minplace\u001b[0m\u001b[0;34m=\u001b[0m\u001b[0;32mTrue\u001b[0m\u001b[0;34m)\u001b[0m\u001b[0;34m\u001b[0m\u001b[0;34m\u001b[0m\u001b[0m\n\u001b[0m\u001b[1;32m      3\u001b[0m \u001b[0mdata1\u001b[0m\u001b[0;34m\u001b[0m\u001b[0;34m\u001b[0m\u001b[0m\n",
      "\u001b[0;31mNameError\u001b[0m: name 'mdict' is not defined"
     ]
    }
   ],
   "source": [
    "#data1.replace({\"በሽያጭ_ሂደቱ_ያጋጠሙ_ችግሮች\": mdict})\n",
    "data1[\"በሽያጭ_ሂደቱ_ያጋጠሙ_ችግሮች\"].replace(mdict, inplace=True)\n",
    "data1"
   ]
  },
  {
   "cell_type": "markdown",
   "metadata": {},
   "source": [
    "#### Filtering and Visulizing Data"
   ]
  },
  {
   "cell_type": "code",
   "execution_count": 124,
   "metadata": {},
   "outputs": [
    {
     "data": {
      "text/html": [
       "<div>\n",
       "<style scoped>\n",
       "    .dataframe tbody tr th:only-of-type {\n",
       "        vertical-align: middle;\n",
       "    }\n",
       "\n",
       "    .dataframe tbody tr th {\n",
       "        vertical-align: top;\n",
       "    }\n",
       "\n",
       "    .dataframe thead th {\n",
       "        text-align: right;\n",
       "    }\n",
       "</style>\n",
       "<table border=\"1\" class=\"dataframe\">\n",
       "  <thead>\n",
       "    <tr style=\"text-align: right;\">\n",
       "      <th></th>\n",
       "      <th>በሽያጭ ሂደቱ ያጋጠሙ ችግሮች</th>\n",
       "      <th>መልሶች</th>\n",
       "    </tr>\n",
       "  </thead>\n",
       "  <tbody>\n",
       "    <tr>\n",
       "      <th>0</th>\n",
       "      <td>በጊዜው አይደርስም ብለው ማሰባቸው</td>\n",
       "      <td>282</td>\n",
       "    </tr>\n",
       "    <tr>\n",
       "      <th>1</th>\n",
       "      <td>የግንባታ መዘግየት  እና መጓተት</td>\n",
       "      <td>282</td>\n",
       "    </tr>\n",
       "    <tr>\n",
       "      <th>2</th>\n",
       "      <td>በ Dollar ክፍያው መሆኑ</td>\n",
       "      <td>275</td>\n",
       "    </tr>\n",
       "    <tr>\n",
       "      <th>3</th>\n",
       "      <td>የግንባታ ጥራት  ችግር (ከዚህ በፊት አያት የ ሰራቸው ቤቶች ላይ  )</td>\n",
       "      <td>110</td>\n",
       "    </tr>\n",
       "    <tr>\n",
       "      <th>4</th>\n",
       "      <td>view  ማግኘት  አለመቻሉ</td>\n",
       "      <td>102</td>\n",
       "    </tr>\n",
       "    <tr>\n",
       "      <th>5</th>\n",
       "      <td>ደንበኛው የሚፍልገው  Size  ፣ Floor</td>\n",
       "      <td>102</td>\n",
       "    </tr>\n",
       "    <tr>\n",
       "      <th>6</th>\n",
       "      <td>sample ቤት  አለመኖሩ</td>\n",
       "      <td>87</td>\n",
       "    </tr>\n",
       "    <tr>\n",
       "      <th>7</th>\n",
       "      <td>የዋጋ መቀያየር</td>\n",
       "      <td>57</td>\n",
       "    </tr>\n",
       "    <tr>\n",
       "      <th>8</th>\n",
       "      <td>ቶሎ መግባት መፈለጋቸው</td>\n",
       "      <td>50</td>\n",
       "    </tr>\n",
       "    <tr>\n",
       "      <th>9</th>\n",
       "      <td>የመረከቢያ ጊዜ መርዘሙ</td>\n",
       "      <td>50</td>\n",
       "    </tr>\n",
       "    <tr>\n",
       "      <th>10</th>\n",
       "      <td>ሌሎች ገዝተው  ሳይረከቡ ስለዘገየ</td>\n",
       "      <td>45</td>\n",
       "    </tr>\n",
       "    <tr>\n",
       "      <th>11</th>\n",
       "      <td>nan</td>\n",
       "      <td>44</td>\n",
       "    </tr>\n",
       "    <tr>\n",
       "      <th>12</th>\n",
       "      <td>የለም</td>\n",
       "      <td>37</td>\n",
       "    </tr>\n",
       "    <tr>\n",
       "      <th>13</th>\n",
       "      <td>ዋጋው ተወዷል</td>\n",
       "      <td>35</td>\n",
       "    </tr>\n",
       "    <tr>\n",
       "      <th>14</th>\n",
       "      <td>Stock መረጃ የማግኘት ችግር</td>\n",
       "      <td>24</td>\n",
       "    </tr>\n",
       "    <tr>\n",
       "      <th>15</th>\n",
       "      <td>የያዙት ቤት ለሌላ መሸጥ</td>\n",
       "      <td>24</td>\n",
       "    </tr>\n",
       "    <tr>\n",
       "      <th>16</th>\n",
       "      <td>ለመወሰን ረጅም ጊዜ መውሰድ</td>\n",
       "      <td>23</td>\n",
       "    </tr>\n",
       "    <tr>\n",
       "      <th>17</th>\n",
       "      <td>የህንጻው ከፈታ  እና በአንድ Floor ላይ በርካታ ሰው መኖሩ</td>\n",
       "      <td>16</td>\n",
       "    </tr>\n",
       "    <tr>\n",
       "      <th>18</th>\n",
       "      <td>Higher second payment</td>\n",
       "      <td>10</td>\n",
       "    </tr>\n",
       "    <tr>\n",
       "      <th>19</th>\n",
       "      <td>በርካታ ብሎክ ስላለ ግርግር ይኖራል ብለው  ማሰባቸው</td>\n",
       "      <td>9</td>\n",
       "    </tr>\n",
       "    <tr>\n",
       "      <th>20</th>\n",
       "      <td>የክፍያ  ሂደቱ  አሰልቺነት ( ደረሰኝ ለማስቆረጥ ያለው እንግልት )</td>\n",
       "      <td>8</td>\n",
       "    </tr>\n",
       "    <tr>\n",
       "      <th>21</th>\n",
       "      <td>የ Discount አስራር  ግልጽ አለመሆን</td>\n",
       "      <td>5</td>\n",
       "    </tr>\n",
       "  </tbody>\n",
       "</table>\n",
       "</div>"
      ],
      "text/plain": [
       "                              በሽያጭ ሂደቱ ያጋጠሙ ችግሮች  መልሶች\n",
       "0                          በጊዜው አይደርስም ብለው ማሰባቸው   282\n",
       "1                          የግንባታ መዘግየት  እና መጓተት    282\n",
       "2                              በ Dollar ክፍያው መሆኑ   275\n",
       "3   የግንባታ ጥራት  ችግር (ከዚህ በፊት አያት የ ሰራቸው ቤቶች ላይ  )   110\n",
       "4                              view  ማግኘት  አለመቻሉ   102\n",
       "5                   ደንበኛው የሚፍልገው  Size  ፣ Floor    102\n",
       "6                               sample ቤት  አለመኖሩ    87\n",
       "7                                      የዋጋ መቀያየር    57\n",
       "8                                 ቶሎ መግባት መፈለጋቸው    50\n",
       "9                                የመረከቢያ ጊዜ መርዘሙ     50\n",
       "10                         ሌሎች ገዝተው  ሳይረከቡ ስለዘገየ    45\n",
       "11                                           nan    44\n",
       "12                                           የለም    37\n",
       "13                                      ዋጋው ተወዷል    35\n",
       "14                          Stock መረጃ የማግኘት ችግር     24\n",
       "15                               የያዙት ቤት ለሌላ መሸጥ    24\n",
       "16                             ለመወሰን ረጅም ጊዜ መውሰድ    23\n",
       "17       የህንጻው ከፈታ  እና በአንድ Floor ላይ በርካታ ሰው መኖሩ    16\n",
       "18                         Higher second payment    10\n",
       "19             በርካታ ብሎክ ስላለ ግርግር ይኖራል ብለው  ማሰባቸው     9\n",
       "20   የክፍያ  ሂደቱ  አሰልቺነት ( ደረሰኝ ለማስቆረጥ ያለው እንግልት )     8\n",
       "21                    የ Discount አስራር  ግልጽ አለመሆን     5"
      ]
     },
     "execution_count": 124,
     "metadata": {},
     "output_type": "execute_result"
    }
   ],
   "source": [
    "#new = new.astype(str)\n",
    "#new.groupby('በሽያጭ_ሂደቱ_ያጋጠሙ_ችግሮች').count()\n",
    "count = new['በሽያጭ_ሂደቱ_ያጋጠሙ_ችግሮች'].value_counts()\n",
    "viz_count = pd.DataFrame({'በሽያጭ ሂደቱ ያጋጠሙ ችግሮች': count.index,\n",
    "                                  'መልሶች': count.values})\n",
    "filterviz_count = viz_count.loc[(viz_count['መልሶች'] >= 5)]\n",
    "filterviz_count"
   ]
  },
  {
   "cell_type": "code",
   "execution_count": 214,
   "metadata": {},
   "outputs": [
    {
     "data": {
      "text/plain": [
       "array([[<matplotlib.axes._subplots.AxesSubplot object at 0x122f48d30>]],\n",
       "      dtype=object)"
      ]
     },
     "execution_count": 214,
     "metadata": {},
     "output_type": "execute_result"
    },
    {
     "data": {
      "image/png": "[encoded data removed]",
      "text/plain": [
       "<Figure size 432x288 with 1 Axes>"
      ]
     },
     "metadata": {
      "needs_background": "light"
     },
     "output_type": "display_data"
    }
   ],
   "source": [
    "filterviz_count.hist()"
   ]
  },
  {
   "cell_type": "code",
   "execution_count": 187,
   "metadata": {},
   "outputs": [
    {
     "data": {
      "text/plain": [
       "<matplotlib.axes._subplots.AxesSubplot at 0x1206501d0>"
      ]
     },
     "execution_count": 187,
     "metadata": {},
     "output_type": "execute_result"
    },
    {
     "data": {
      "image/png": "[encoded data removed]",
      "text/plain": [
       "<Figure size 432x288 with 1 Axes>"
      ]
     },
     "metadata": {},
     "output_type": "display_data"
    }
   ],
   "source": [
    "filterviz_count.groupby(['በሽያጭ ሂደቱ ያጋጠሙ ችግሮች']).sum().plot(kind='pie', y='መልሶች')"
   ]
  },
  {
   "cell_type": "code",
   "execution_count": 183,
   "metadata": {},
   "outputs": [
    {
     "data": {
      "text/plain": [
       "<seaborn.axisgrid.FacetGrid at 0x11f964e80>"
      ]
     },
     "execution_count": 183,
     "metadata": {},
     "output_type": "execute_result"
    },
    {
     "data": {
      "image/png": "[encoded data removed]",
      "text/plain": [
       "<Figure size 201.6x288 with 1 Axes>"
      ]
     },
     "metadata": {
      "needs_background": "light"
     },
     "output_type": "display_data"
    }
   ],
   "source": [
    "sns.catplot(y=\"በሽያጭ ሂደቱ ያጋጠሙ ችግሮች\", \n",
    "            kind=\"count\",\n",
    "            height=4, \n",
    "            aspect=.7,\n",
    "            data=filterviz_count,)"
   ]
  },
  {
   "cell_type": "code",
   "execution_count": null,
   "metadata": {},
   "outputs": [],
   "source": []
  },
  {
   "cell_type": "code",
   "execution_count": 44,
   "metadata": {},
   "outputs": [
    {
     "data": {
      "text/plain": [
       "<pandas.core.groupby.generic.DataFrameGroupBy object at 0x11a046320>"
      ]
     },
     "execution_count": 44,
     "metadata": {},
     "output_type": "execute_result"
    }
   ],
   "source": []
  },
  {
   "cell_type": "code",
   "execution_count": 25,
   "metadata": {},
   "outputs": [],
   "source": [
    "# new.fillna('የለም')\n",
    "# new  = new.replace(np.nan, 0)\n",
    "#new = new.astype(str)"
   ]
  },
  {
   "cell_type": "code",
   "execution_count": null,
   "metadata": {},
   "outputs": [],
   "source": [
    "ax = sns.countplot(y=\"በሽያጭ_ሂደቱ_ያጋጠሙ_ችግሮች\", \n",
    "                   hue=\"ReferenceNumber\",\n",
    "                   data=new)"
   ]
  },
  {
   "cell_type": "code",
   "execution_count": null,
   "metadata": {},
   "outputs": [],
   "source": [
    "ax = sns.countplot(y=\"በሽያጭ_ሂደቱ_ያጋጠሙ_ችግሮች\", \n",
    "                   hue=\"ReferenceNumber\",\n",
    "                   height=4, \n",
    "                   aspect=.7,\n",
    "                   data=new)"
   ]
  },
  {
   "cell_type": "code",
   "execution_count": null,
   "metadata": {},
   "outputs": [],
   "source": []
  },
  {
   "cell_type": "code",
   "execution_count": 152,
   "metadata": {},
   "outputs": [],
   "source": [
    "sums = new.በሽያጭ_ሂደቱ_ያጋጠሙ_ችግሮች.groupby(new.በሽያጭ_ሂደቱ_ያጋጠሙ_ችግሮች).sum()"
   ]
  },
  {
   "cell_type": "code",
   "execution_count": null,
   "metadata": {},
   "outputs": [],
   "source": [
    "new.ReferenceNumber.groupby(new.በሽያጭ_ሂደቱ_ያጋጠሙ_ችግሮች).sum().plot(kind='pie')\n",
    "plt.axis('equal')\n",
    "plt.show()"
   ]
  },
  {
   "cell_type": "code",
   "execution_count": null,
   "metadata": {},
   "outputs": [],
   "source": []
  },
  {
   "cell_type": "code",
   "execution_count": null,
   "metadata": {},
   "outputs": [],
   "source": [
    "#new.to_csv(\"በሽያጭ_ሂደቱ_ያጋጠሙ_ችግሮች.csv\")"
   ]
  },
  {
   "cell_type": "code",
   "execution_count": null,
   "metadata": {},
   "outputs": [],
   "source": [
    "# dropping ALL duplicte values\n",
    "result_df = new.drop_duplicates(subset=[\n",
    "    'ReferenceNumber',\n",
    "            'የሽያጭ_ሰራተኛው_ሙሉስም ',\n",
    "            'የሽያጭ_ሰራተኛው_ስልክ',\n",
    "            'የሽያጭ_ሰራተኛው_ፈርሟል',\n",
    "            'ያረጋገጠው_ሱፐርቫይዘር_ስም ',\n",
    "            'ያረጋገጠው_ሱፐርቫይዘር_ፈርሟል',\n",
    "            'የሽያጭ_ስራ_አስኪያጅስም', \n",
    "            'የሽያጭ_ስራ_አስኪያጅ ፈርሟል',\n",
    "            'የደንበኛው_ሙሉ_ስም ', \n",
    "            'ጾታ', \n",
    "            'እድሜ', \n",
    "            'የትዳር_ሁኔታ',\n",
    "            'አድራሻ',\n",
    "            'ስራ_ቢዝነስ',\n",
    "            'የደንበኛው_የገቢ_ምንጭ', \n",
    "            'ቤቱን_የገዙበት_አላማ',\n",
    "            'በሽያጭ_ሂደቱ_ያጋጠሙ_ችግሮች', \n",
    "            'ችግሮቹን_የፈቱበት_መንገዶች', \n",
    "            'የግዝ_ውሳኔው_ላይ_ተጽኖ_የፈጠሩ_ሰዎች', \n",
    "            'የግዝ_ውሳኒውን_ያሳኩ_ምክንያቶች',\n",
    "            'አያትን_የመረጡበት_ምክንያት', \n",
    "            'ሌሎች_ሽያጭ_ሂደቱ_የረዱ_ጉዳዮች',\n",
    "            'ደንበኛው_የተገኘበት_ቀን ',\n",
    "            'ደንበኛው_የተገኘበት_አግባብ', \n",
    "            'የተሸጠው_ቤት_ስፋት', \n",
    "            'ፊኒሺንግ', \n",
    "            'የውል_ቁጥር', \n",
    "            'የቤት_ቁጥር ',\n",
    "            'የመጀመሪያ_ክፍያ_መጠን' , \n",
    "            'ሽያጩ_የተከናወነበት_ቀን ', \n",
    "            'የደንበኛው_ስልክ_ቁጥር'], keep='first')\n"
   ]
  },
  {
   "cell_type": "code",
   "execution_count": null,
   "metadata": {},
   "outputs": [],
   "source": [
    "result_df.shape"
   ]
  },
  {
   "cell_type": "code",
   "execution_count": null,
   "metadata": {},
   "outputs": [],
   "source": []
  },
  {
   "cell_type": "markdown",
   "metadata": {},
   "source": [
    "#### Individual Testting"
   ]
  },
  {
   "cell_type": "code",
   "execution_count": null,
   "metadata": {},
   "outputs": [],
   "source": [
    "new = splitDataFrameList(new,'በሽያጭ_ሂደቱ_ያጋጠሙ_ችግሮች',',')\n",
    "len(new)"
   ]
  },
  {
   "cell_type": "code",
   "execution_count": null,
   "metadata": {},
   "outputs": [],
   "source": [
    "new = splitDataFrameList(new,'በሽያጭ_ሂደቱ_ያጋጠሙ_ችግሮች',';')\n",
    "len(new)"
   ]
  },
  {
   "cell_type": "code",
   "execution_count": null,
   "metadata": {},
   "outputs": [],
   "source": [
    "new = splitDataFrameList(new,'በሽያጭ_ሂደቱ_ያጋጠሙ_ችግሮች','/')\n",
    "new = new.dropna()\n",
    "len(new)"
   ]
  },
  {
   "cell_type": "code",
   "execution_count": null,
   "metadata": {},
   "outputs": [],
   "source": [
    "data.columns"
   ]
  },
  {
   "cell_type": "code",
   "execution_count": null,
   "metadata": {},
   "outputs": [],
   "source": []
  }
 ],
 "metadata": {
  "kernelspec": {
   "display_name": "Python 3",
   "language": "python",
   "name": "python3"
  },
  "language_info": {
   "codemirror_mode": {
    "name": "ipython",
    "version": 3
   },
   "file_extension": ".py",
   "mimetype": "text/x-python",
   "name": "python",
   "nbconvert_exporter": "python",
   "pygments_lexer": "ipython3",
   "version": "3.7.3"
  }
 },
 "nbformat": 4,
 "nbformat_minor": 4
}
